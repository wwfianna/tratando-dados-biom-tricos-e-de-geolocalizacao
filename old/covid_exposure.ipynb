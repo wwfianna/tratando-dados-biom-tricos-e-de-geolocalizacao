{
 "nbformat": 4,
 "nbformat_minor": 0,
 "metadata": {
  "colab": {
   "name": "exposição_covid.ipynb",
   "provenance": [],
   "collapsed_sections": [],
   "authorship_tag": "ABX9TyO7i87tvDAcBM+VSV1W50EY"
  },
  "kernelspec": {
   "name": "python3",
   "language": "python",
   "display_name": "Python 3"
  },
  "language_info": {
   "name": "python"
  }
 },
 "cells": [
  {
   "cell_type": "code",
   "metadata": {
    "id": "adCwnmZrHZ4Y",
    "executionInfo": {
     "status": "ok",
     "timestamp": 1635978666024,
     "user_tz": 180,
     "elapsed": 333,
     "user": {
      "displayName": "Daniel Carvalho",
      "photoUrl": "https://lh3.googleusercontent.com/a/default-user=s64",
      "userId": "06930449971611347903"
     }
    }
   },
   "source": [
    "import pandas as pd\n",
    "import datetime as dt"
   ],
   "execution_count": 47,
   "outputs": []
  },
  {
   "cell_type": "code",
   "metadata": {
    "id": "u52_fU60IkdW",
    "executionInfo": {
     "status": "ok",
     "timestamp": 1635978702931,
     "user_tz": 180,
     "elapsed": 26401,
     "user": {
      "displayName": "Daniel Carvalho",
      "photoUrl": "https://lh3.googleusercontent.com/a/default-user=s64",
      "userId": "06930449971611347903"
     }
    }
   },
   "source": [
    "loc_history = pd.read_json(\"data/Histórico de localização.json\")"
   ],
   "execution_count": 48,
   "outputs": []
  },
  {
   "cell_type": "code",
   "metadata": {
    "id": "Zn_7S_KoJIVW",
    "executionInfo": {
     "status": "ok",
     "timestamp": 1635978762476,
     "user_tz": 180,
     "elapsed": 56494,
     "user": {
      "displayName": "Daniel Carvalho",
      "photoUrl": "https://lh3.googleusercontent.com/a/default-user=s64",
      "userId": "06930449971611347903"
     }
    }
   },
   "source": [
    "locations = pd.json_normalize(loc_history['locations'])"
   ],
   "execution_count": 49,
   "outputs": []
  },
  {
   "cell_type": "code",
   "execution_count": 50,
   "outputs": [
    {
     "data": {
      "text/plain": "     timestampMs  latitudeE7  longitudeE7  accuracy  \\\n0  1378508750990  -229917099   -433592736       984   \n1  1378508766022  -229917099   -433592736       984   \n2  1378509026816  -229917099   -433592736       984   \n3  1378509072785  -229949469   -433592859         5   \n4  1378509118790  -229958679   -433588200         5   \n\n                                            activity source  deviceTag  \\\n0  [{'timestampMs': '1378508517137', 'activity': ...   CELL  248904379   \n1  [{'timestampMs': '1378508772583', 'activity': ...   CELL  248904379   \n2  [{'timestampMs': '1378508969051', 'activity': ...   CELL  248904379   \n3                                                NaN    GPS  248904379   \n4                                                NaN    GPS  248904379   \n\n   altitude  verticalAccuracy platform platformType locationMetadata  \\\n0       NaN               NaN      NaN          NaN              NaN   \n1       NaN               NaN      NaN          NaN              NaN   \n2       NaN               NaN      NaN          NaN              NaN   \n3       NaN               NaN      NaN          NaN              NaN   \n4       NaN               NaN      NaN          NaN              NaN   \n\n   velocity  heading  \n0       NaN      NaN  \n1       NaN      NaN  \n2       NaN      NaN  \n3       NaN      NaN  \n4       NaN      NaN  ",
      "text/html": "<div>\n<style scoped>\n    .dataframe tbody tr th:only-of-type {\n        vertical-align: middle;\n    }\n\n    .dataframe tbody tr th {\n        vertical-align: top;\n    }\n\n    .dataframe thead th {\n        text-align: right;\n    }\n</style>\n<table border=\"1\" class=\"dataframe\">\n  <thead>\n    <tr style=\"text-align: right;\">\n      <th></th>\n      <th>timestampMs</th>\n      <th>latitudeE7</th>\n      <th>longitudeE7</th>\n      <th>accuracy</th>\n      <th>activity</th>\n      <th>source</th>\n      <th>deviceTag</th>\n      <th>altitude</th>\n      <th>verticalAccuracy</th>\n      <th>platform</th>\n      <th>platformType</th>\n      <th>locationMetadata</th>\n      <th>velocity</th>\n      <th>heading</th>\n    </tr>\n  </thead>\n  <tbody>\n    <tr>\n      <th>0</th>\n      <td>1378508750990</td>\n      <td>-229917099</td>\n      <td>-433592736</td>\n      <td>984</td>\n      <td>[{'timestampMs': '1378508517137', 'activity': ...</td>\n      <td>CELL</td>\n      <td>248904379</td>\n      <td>NaN</td>\n      <td>NaN</td>\n      <td>NaN</td>\n      <td>NaN</td>\n      <td>NaN</td>\n      <td>NaN</td>\n      <td>NaN</td>\n    </tr>\n    <tr>\n      <th>1</th>\n      <td>1378508766022</td>\n      <td>-229917099</td>\n      <td>-433592736</td>\n      <td>984</td>\n      <td>[{'timestampMs': '1378508772583', 'activity': ...</td>\n      <td>CELL</td>\n      <td>248904379</td>\n      <td>NaN</td>\n      <td>NaN</td>\n      <td>NaN</td>\n      <td>NaN</td>\n      <td>NaN</td>\n      <td>NaN</td>\n      <td>NaN</td>\n    </tr>\n    <tr>\n      <th>2</th>\n      <td>1378509026816</td>\n      <td>-229917099</td>\n      <td>-433592736</td>\n      <td>984</td>\n      <td>[{'timestampMs': '1378508969051', 'activity': ...</td>\n      <td>CELL</td>\n      <td>248904379</td>\n      <td>NaN</td>\n      <td>NaN</td>\n      <td>NaN</td>\n      <td>NaN</td>\n      <td>NaN</td>\n      <td>NaN</td>\n      <td>NaN</td>\n    </tr>\n    <tr>\n      <th>3</th>\n      <td>1378509072785</td>\n      <td>-229949469</td>\n      <td>-433592859</td>\n      <td>5</td>\n      <td>NaN</td>\n      <td>GPS</td>\n      <td>248904379</td>\n      <td>NaN</td>\n      <td>NaN</td>\n      <td>NaN</td>\n      <td>NaN</td>\n      <td>NaN</td>\n      <td>NaN</td>\n      <td>NaN</td>\n    </tr>\n    <tr>\n      <th>4</th>\n      <td>1378509118790</td>\n      <td>-229958679</td>\n      <td>-433588200</td>\n      <td>5</td>\n      <td>NaN</td>\n      <td>GPS</td>\n      <td>248904379</td>\n      <td>NaN</td>\n      <td>NaN</td>\n      <td>NaN</td>\n      <td>NaN</td>\n      <td>NaN</td>\n      <td>NaN</td>\n      <td>NaN</td>\n    </tr>\n  </tbody>\n</table>\n</div>"
     },
     "execution_count": 50,
     "metadata": {},
     "output_type": "execute_result"
    }
   ],
   "source": [
    "locations.head()"
   ],
   "metadata": {
    "collapsed": false,
    "pycharm": {
     "name": "#%%\n"
    }
   }
  },
  {
   "cell_type": "code",
   "metadata": {
    "id": "vGU25vq-UL2f",
    "executionInfo": {
     "status": "ok",
     "timestamp": 1635978763422,
     "user_tz": 180,
     "elapsed": 957,
     "user": {
      "displayName": "Daniel Carvalho",
      "photoUrl": "https://lh3.googleusercontent.com/a/default-user=s64",
      "userId": "06930449971611347903"
     }
    }
   },
   "source": [
    "locations['timestampMs'] = pd.to_numeric(locations['timestampMs'])\n",
    "locations['latitudeE7'] = pd.to_numeric(locations['latitudeE7'])\n",
    "locations['longitudeE7'] = pd.to_numeric(locations['longitudeE7'])"
   ],
   "execution_count": 51,
   "outputs": []
  },
  {
   "cell_type": "code",
   "metadata": {
    "id": "gvMeD30iOgHi",
    "executionInfo": {
     "status": "ok",
     "timestamp": 1635978800277,
     "user_tz": 180,
     "elapsed": 274,
     "user": {
      "displayName": "Daniel Carvalho",
      "photoUrl": "https://lh3.googleusercontent.com/a/default-user=s64",
      "userId": "06930449971611347903"
     }
    }
   },
   "source": [
    "locations = locations[\n",
    "    locations['timestampMs'] > dt.datetime.timestamp(dt.datetime.now() - dt.timedelta(days=30)) * 1000]"
   ],
   "execution_count": 52,
   "outputs": []
  },
  {
   "cell_type": "code",
   "metadata": {
    "id": "jIIaUT202X3k",
    "executionInfo": {
     "status": "ok",
     "timestamp": 1635978803135,
     "user_tz": 180,
     "elapsed": 287,
     "user": {
      "displayName": "Daniel Carvalho",
      "photoUrl": "https://lh3.googleusercontent.com/a/default-user=s64",
      "userId": "06930449971611347903"
     }
    }
   },
   "source": [
    "import requests\n",
    "import time"
   ],
   "execution_count": 53,
   "outputs": []
  },
  {
   "cell_type": "code",
   "metadata": {
    "id": "mqwhS-7g2ZHr",
    "executionInfo": {
     "status": "ok",
     "timestamp": 1635978808536,
     "user_tz": 180,
     "elapsed": 292,
     "user": {
      "displayName": "Daniel Carvalho",
      "photoUrl": "https://lh3.googleusercontent.com/a/default-user=s64",
      "userId": "06930449971611347903"
     }
    }
   },
   "source": [
    "####\n",
    "# URL de conexão com a API CEP Aberto\n",
    "####\n",
    "with open('token.txt') as file:\n",
    "    token = file.readline()\n",
    "\n",
    "url = \"https://www.cepaberto.com/api/v3/nearest\"\n",
    "headers = {'Authorization': 'Token token=' + token}"
   ],
   "execution_count": 54,
   "outputs": []
  },
  {
   "cell_type": "code",
   "metadata": {
    "id": "qeiLMtpAT2mp",
    "executionInfo": {
     "status": "ok",
     "timestamp": 1635978839473,
     "user_tz": 180,
     "elapsed": 29427,
     "user": {
      "displayName": "Daniel Carvalho",
      "photoUrl": "https://lh3.googleusercontent.com/a/default-user=s64",
      "userId": "06930449971611347903"
     }
    }
   },
   "source": [
    "entries = pd.DataFrame()\n",
    "initTimestamp = 0\n",
    "initLatitude = 0\n",
    "initLongitude = 0\n",
    "for index, location in locations.iterrows():\n",
    "    if initTimestamp == 0:\n",
    "        initTimestamp = location['timestampMs']\n",
    "        initLatitude = location['latitudeE7']\n",
    "        initLongitude = location['longitudeE7']\n",
    "    else:\n",
    "        ####\n",
    "        # Verifica se houve alguma mudança significativa na localização baseada nos dados de lat e lng fornecidos pelo GPS\n",
    "        ####\n",
    "        if abs(location['latitudeE7'] - initLatitude) > 50000 or abs(location['longitudeE7'] - initLongitude) > 50000:\n",
    "            duration = (dt.datetime.fromtimestamp(location['timestampMs'] / 1000) - dt.datetime.fromtimestamp(\n",
    "                initTimestamp / 1000)).total_seconds()\n",
    "            ####\n",
    "            # O usuário deve ter permanecido por pelo menos 30min no local para ser considerado\n",
    "            ####\n",
    "            if duration > 1800:\n",
    "                ####\n",
    "                # Formatando os dados de localização para se comunicar com a API do CEP Aberto\n",
    "                ####\n",
    "                latitude = location['latitudeE7'] / 10000000\n",
    "                longitude = location['longitudeE7'] / 10000000\n",
    "                response = requests.get(url, headers=headers, params={'lat': latitude, 'lng': longitude})\n",
    "                cep = response.json()['cep']\n",
    "\n",
    "                ####\n",
    "                # Adicionando entrada à lista\n",
    "                ####\n",
    "                tmp = {\n",
    "                    'data': dt.datetime.fromtimestamp(location['timestampMs'] / 1000).strftime(\"%Y/%m/%d, %H:%M:%S\"),\n",
    "                    'duration': duration,\n",
    "                    'cep': cep\n",
    "                }\n",
    "                entries = entries.append(tmp, ignore_index=True, sort=False)\n",
    "\n",
    "                ####\n",
    "                # A API é free mas limitada à uma consulta por segundo\n",
    "                ####\n",
    "                time.sleep(1)\n",
    "\n",
    "            initTimestamp = location['timestampMs']\n",
    "            initLatitude = location['latitudeE7']\n",
    "            initLongitude = location['longitudeE7']"
   ],
   "execution_count": 55,
   "outputs": []
  },
  {
   "cell_type": "code",
   "execution_count": 56,
   "outputs": [
    {
     "data": {
      "text/plain": "                   data    duration       cep\n0  2021/10/21, 08:32:54   31011.858  21715550\n1  2021/10/21, 09:09:14    2032.974  21721470\n2  2021/10/22, 17:23:17  115829.336  21815190\n3  2021/10/24, 14:45:51  161701.578  21810101\n4  2021/10/24, 16:13:11    5118.068  21715460",
      "text/html": "<div>\n<style scoped>\n    .dataframe tbody tr th:only-of-type {\n        vertical-align: middle;\n    }\n\n    .dataframe tbody tr th {\n        vertical-align: top;\n    }\n\n    .dataframe thead th {\n        text-align: right;\n    }\n</style>\n<table border=\"1\" class=\"dataframe\">\n  <thead>\n    <tr style=\"text-align: right;\">\n      <th></th>\n      <th>data</th>\n      <th>duration</th>\n      <th>cep</th>\n    </tr>\n  </thead>\n  <tbody>\n    <tr>\n      <th>0</th>\n      <td>2021/10/21, 08:32:54</td>\n      <td>31011.858</td>\n      <td>21715550</td>\n    </tr>\n    <tr>\n      <th>1</th>\n      <td>2021/10/21, 09:09:14</td>\n      <td>2032.974</td>\n      <td>21721470</td>\n    </tr>\n    <tr>\n      <th>2</th>\n      <td>2021/10/22, 17:23:17</td>\n      <td>115829.336</td>\n      <td>21815190</td>\n    </tr>\n    <tr>\n      <th>3</th>\n      <td>2021/10/24, 14:45:51</td>\n      <td>161701.578</td>\n      <td>21810101</td>\n    </tr>\n    <tr>\n      <th>4</th>\n      <td>2021/10/24, 16:13:11</td>\n      <td>5118.068</td>\n      <td>21715460</td>\n    </tr>\n  </tbody>\n</table>\n</div>"
     },
     "execution_count": 56,
     "metadata": {},
     "output_type": "execute_result"
    }
   ],
   "source": [
    "entries.head()"
   ],
   "metadata": {
    "collapsed": false,
    "pycharm": {
     "name": "#%%\n"
    }
   }
  },
  {
   "cell_type": "code",
   "metadata": {
    "colab": {
     "base_uri": "https://localhost:8080/"
    },
    "id": "ctNRqP4Kbqsx",
    "executionInfo": {
     "status": "ok",
     "timestamp": 1635978846789,
     "user_tz": 180,
     "elapsed": 300,
     "user": {
      "displayName": "Daniel Carvalho",
      "photoUrl": "https://lh3.googleusercontent.com/a/default-user=s64",
      "userId": "06930449971611347903"
     }
    },
    "outputId": "1a87ccc1-e475-4c0e-cac5-0fbc2dc6ee6a"
   },
   "source": [
    "###\n",
    "# Carregamento dos dados da prefeitura do Rio de Janeiro\n",
    "###\n",
    "covid_cases = pd.read_csv('data/Dados_CEP_MRJ_covid_19.csv')\n"
   ],
   "execution_count": 57,
   "outputs": [
    {
     "name": "stderr",
     "output_type": "stream",
     "text": [
      "/home/daniel/anaconda3/lib/python3.8/site-packages/IPython/core/interactiveshell.py:3444: DtypeWarning: Columns (5,6) have mixed types.Specify dtype option on import or set low_memory=False.\n",
      "  exec(code_obj, self.user_global_ns, self.user_ns)\n"
     ]
    }
   ]
  },
  {
   "cell_type": "code",
   "metadata": {
    "id": "mK6eBVxo8CZ9"
   },
   "source": [
    "###\n",
    "# Convertendo os dados de data para objeto datetime e selecionando apenas os últimos 15 dias\n",
    "###\n",
    "covid_cases['dt_inicio_sintomas'] = pd.to_datetime(covid_cases['dt_inicio_sintomas'], dayfirst=True)\n",
    "covid_cases[covid_cases['dt_inicio_sintomas'] > dt.datetime.now() - dt.timedelta(days=30)]"
   ],
   "execution_count": 58,
   "outputs": [
    {
     "data": {
      "text/plain": "        dt_notific dt_inicio_sintomas bairro_resid__estadia  \\\n6259    10/29/2021         2021-10-28          CAMPO GRANDE   \n6345    11/12/2021         2021-11-11             BANCARIOS   \n6563    10/25/2021         2021-10-22                CACUIA   \n6565    06/21/2021         2021-11-06               TAQUARA   \n6634    04/18/2021         2021-11-04                 IRAJA   \n...            ...                ...                   ...   \n443963  05/27/2021         2021-12-05              REALENGO   \n444095  03/12/2021         2021-11-03               CATUMBI   \n444106  03/15/2021         2021-12-03               CATUMBI   \n444113  04/13/2021         2021-12-04             GUARATIBA   \n444171  03/15/2021         2021-12-03          SANTA TERESA   \n\n        ap_residencia_estadia    evolucao dt_evolucao       cep  \\\n6259                      5.2       óbito  11/16/2021  23055005   \n6345                      3.1  recuperado  11/15/2021  21910210   \n6563                      3.1  recuperado  11/12/2021  21921100   \n6565                      4.0  recuperado  11/12/2021  22723021   \n6634                      3.3  recuperado  11/11/2021  21220530   \n...                       ...         ...         ...       ...   \n443963                    5.1  Recuperado         NaN  21725060   \n444095                    1.0  Recuperado         NaN  20251330   \n444106                    1.0  Recuperado         NaN  20251190   \n444113                    5.2  Recuperado         NaN  23020000   \n444171                    1.0  Recuperado         NaN  20240080   \n\n       data_atualizacao  \n6259         16/11/2021  \n6345         16/11/2021  \n6563         16/11/2021  \n6565         16/11/2021  \n6634         16/11/2021  \n...                 ...  \n443963       11/16/2021  \n444095       11/16/2021  \n444106       11/16/2021  \n444113       11/16/2021  \n444171       11/16/2021  \n\n[17603 rows x 8 columns]",
      "text/html": "<div>\n<style scoped>\n    .dataframe tbody tr th:only-of-type {\n        vertical-align: middle;\n    }\n\n    .dataframe tbody tr th {\n        vertical-align: top;\n    }\n\n    .dataframe thead th {\n        text-align: right;\n    }\n</style>\n<table border=\"1\" class=\"dataframe\">\n  <thead>\n    <tr style=\"text-align: right;\">\n      <th></th>\n      <th>dt_notific</th>\n      <th>dt_inicio_sintomas</th>\n      <th>bairro_resid__estadia</th>\n      <th>ap_residencia_estadia</th>\n      <th>evolucao</th>\n      <th>dt_evolucao</th>\n      <th>cep</th>\n      <th>data_atualizacao</th>\n    </tr>\n  </thead>\n  <tbody>\n    <tr>\n      <th>6259</th>\n      <td>10/29/2021</td>\n      <td>2021-10-28</td>\n      <td>CAMPO GRANDE</td>\n      <td>5.2</td>\n      <td>óbito</td>\n      <td>11/16/2021</td>\n      <td>23055005</td>\n      <td>16/11/2021</td>\n    </tr>\n    <tr>\n      <th>6345</th>\n      <td>11/12/2021</td>\n      <td>2021-11-11</td>\n      <td>BANCARIOS</td>\n      <td>3.1</td>\n      <td>recuperado</td>\n      <td>11/15/2021</td>\n      <td>21910210</td>\n      <td>16/11/2021</td>\n    </tr>\n    <tr>\n      <th>6563</th>\n      <td>10/25/2021</td>\n      <td>2021-10-22</td>\n      <td>CACUIA</td>\n      <td>3.1</td>\n      <td>recuperado</td>\n      <td>11/12/2021</td>\n      <td>21921100</td>\n      <td>16/11/2021</td>\n    </tr>\n    <tr>\n      <th>6565</th>\n      <td>06/21/2021</td>\n      <td>2021-11-06</td>\n      <td>TAQUARA</td>\n      <td>4.0</td>\n      <td>recuperado</td>\n      <td>11/12/2021</td>\n      <td>22723021</td>\n      <td>16/11/2021</td>\n    </tr>\n    <tr>\n      <th>6634</th>\n      <td>04/18/2021</td>\n      <td>2021-11-04</td>\n      <td>IRAJA</td>\n      <td>3.3</td>\n      <td>recuperado</td>\n      <td>11/11/2021</td>\n      <td>21220530</td>\n      <td>16/11/2021</td>\n    </tr>\n    <tr>\n      <th>...</th>\n      <td>...</td>\n      <td>...</td>\n      <td>...</td>\n      <td>...</td>\n      <td>...</td>\n      <td>...</td>\n      <td>...</td>\n      <td>...</td>\n    </tr>\n    <tr>\n      <th>443963</th>\n      <td>05/27/2021</td>\n      <td>2021-12-05</td>\n      <td>REALENGO</td>\n      <td>5.1</td>\n      <td>Recuperado</td>\n      <td>NaN</td>\n      <td>21725060</td>\n      <td>11/16/2021</td>\n    </tr>\n    <tr>\n      <th>444095</th>\n      <td>03/12/2021</td>\n      <td>2021-11-03</td>\n      <td>CATUMBI</td>\n      <td>1.0</td>\n      <td>Recuperado</td>\n      <td>NaN</td>\n      <td>20251330</td>\n      <td>11/16/2021</td>\n    </tr>\n    <tr>\n      <th>444106</th>\n      <td>03/15/2021</td>\n      <td>2021-12-03</td>\n      <td>CATUMBI</td>\n      <td>1.0</td>\n      <td>Recuperado</td>\n      <td>NaN</td>\n      <td>20251190</td>\n      <td>11/16/2021</td>\n    </tr>\n    <tr>\n      <th>444113</th>\n      <td>04/13/2021</td>\n      <td>2021-12-04</td>\n      <td>GUARATIBA</td>\n      <td>5.2</td>\n      <td>Recuperado</td>\n      <td>NaN</td>\n      <td>23020000</td>\n      <td>11/16/2021</td>\n    </tr>\n    <tr>\n      <th>444171</th>\n      <td>03/15/2021</td>\n      <td>2021-12-03</td>\n      <td>SANTA TERESA</td>\n      <td>1.0</td>\n      <td>Recuperado</td>\n      <td>NaN</td>\n      <td>20240080</td>\n      <td>11/16/2021</td>\n    </tr>\n  </tbody>\n</table>\n<p>17603 rows × 8 columns</p>\n</div>"
     },
     "execution_count": 58,
     "metadata": {},
     "output_type": "execute_result"
    }
   ]
  },
  {
   "cell_type": "code",
   "execution_count": 59,
   "outputs": [],
   "source": [
    "###\n",
    "# Realizando a contagem de casos em cada CEP\n",
    "###\n",
    "relevant_covid_cases_cep = covid_cases[\n",
    "    covid_cases['dt_inicio_sintomas'] > dt.datetime.now() - dt.timedelta(days=30)].groupby(['cep']).count()\n",
    "\n",
    "relevant_covid_cases_cep = relevant_covid_cases_cep.reset_index()\n",
    "\n",
    "cases_by_cep = pd.DataFrame()\n",
    "cases_by_cep[['cep', 'cases']] = relevant_covid_cases_cep[['cep', 'dt_inicio_sintomas']]"
   ],
   "metadata": {
    "collapsed": false,
    "pycharm": {
     "name": "#%%\n"
    }
   }
  },
  {
   "cell_type": "code",
   "execution_count": 60,
   "outputs": [
    {
     "data": {
      "text/plain": "           cep  cases\n0     20000000     78\n1     20000521      1\n2     20010000      3\n3     20010010      1\n4     20020021      1\n...        ...    ...\n8601  23595048      1\n8602  23595060      2\n8603  23595290      1\n8604  23595390      1\n8605  23595490      1\n\n[8606 rows x 2 columns]",
      "text/html": "<div>\n<style scoped>\n    .dataframe tbody tr th:only-of-type {\n        vertical-align: middle;\n    }\n\n    .dataframe tbody tr th {\n        vertical-align: top;\n    }\n\n    .dataframe thead th {\n        text-align: right;\n    }\n</style>\n<table border=\"1\" class=\"dataframe\">\n  <thead>\n    <tr style=\"text-align: right;\">\n      <th></th>\n      <th>cep</th>\n      <th>cases</th>\n    </tr>\n  </thead>\n  <tbody>\n    <tr>\n      <th>0</th>\n      <td>20000000</td>\n      <td>78</td>\n    </tr>\n    <tr>\n      <th>1</th>\n      <td>20000521</td>\n      <td>1</td>\n    </tr>\n    <tr>\n      <th>2</th>\n      <td>20010000</td>\n      <td>3</td>\n    </tr>\n    <tr>\n      <th>3</th>\n      <td>20010010</td>\n      <td>1</td>\n    </tr>\n    <tr>\n      <th>4</th>\n      <td>20020021</td>\n      <td>1</td>\n    </tr>\n    <tr>\n      <th>...</th>\n      <td>...</td>\n      <td>...</td>\n    </tr>\n    <tr>\n      <th>8601</th>\n      <td>23595048</td>\n      <td>1</td>\n    </tr>\n    <tr>\n      <th>8602</th>\n      <td>23595060</td>\n      <td>2</td>\n    </tr>\n    <tr>\n      <th>8603</th>\n      <td>23595290</td>\n      <td>1</td>\n    </tr>\n    <tr>\n      <th>8604</th>\n      <td>23595390</td>\n      <td>1</td>\n    </tr>\n    <tr>\n      <th>8605</th>\n      <td>23595490</td>\n      <td>1</td>\n    </tr>\n  </tbody>\n</table>\n<p>8606 rows × 2 columns</p>\n</div>"
     },
     "execution_count": 60,
     "metadata": {},
     "output_type": "execute_result"
    }
   ],
   "source": [
    "cases_by_cep"
   ],
   "metadata": {
    "collapsed": false,
    "pycharm": {
     "name": "#%%\n"
    }
   }
  },
  {
   "cell_type": "code",
   "execution_count": 61,
   "outputs": [],
   "source": [
    "from pathlib import Path"
   ],
   "metadata": {
    "collapsed": false,
    "pycharm": {
     "name": "#%%\n"
    }
   }
  },
  {
   "cell_type": "code",
   "execution_count": 62,
   "outputs": [],
   "source": [
    "###\n",
    "# Cruzando os dados de permanência em cada CEP com a incidência de casos de COVID-19\n",
    "###\n",
    "fin = entries.merge(cases_by_cep, on='cep', how='left').fillna(0)\n",
    "\n",
    "###\n",
    "# Carregamento dos dados de biometria obtidos pelo wearable\n",
    "###\n",
    "df = pd.DataFrame()\n",
    "jsons = []\n",
    "pathlist = Path(\"data/com.samsung.shealth.stress/\").glob('**/*.json')\n",
    "for path in pathlist:\n",
    "    path_in_str = str(path)\n",
    "    tmp_df = pd.read_json(path)\n",
    "    jsons.append(tmp_df)\n",
    "\n",
    "df = pd.concat(jsons)"
   ],
   "metadata": {
    "collapsed": false,
    "pycharm": {
     "name": "#%%\n"
    }
   }
  },
  {
   "cell_type": "code",
   "execution_count": 63,
   "outputs": [],
   "source": [
    "df['score'] = pd.to_numeric(df['score'])\n",
    "df['hrv'] = df['score'].apply(lambda x: 100 - x)\n",
    "df = df.sort_values(by=['end_time'])\n",
    "df['end_time'] = pd.to_datetime(df['end_time'])"
   ],
   "metadata": {
    "collapsed": false,
    "pycharm": {
     "name": "#%%\n"
    }
   }
  },
  {
   "cell_type": "code",
   "execution_count": 64,
   "outputs": [],
   "source": [
    "dfplot = df[df['end_time'] > dt.datetime.now() - dt.timedelta(days=30)]\n"
   ],
   "metadata": {
    "collapsed": false,
    "pycharm": {
     "name": "#%%\n"
    }
   }
  },
  {
   "cell_type": "code",
   "execution_count": 65,
   "outputs": [],
   "source": [
    "fin = pd.DataFrame()\n",
    "fin[\"end_time\"] = dfplot[\"end_time\"].dt.strftime('%H:%M:%S')\n",
    "fin[\"end_date\"] = dfplot[\"end_time\"].dt.strftime('%Y-%m-%d')\n",
    "fin[\"score\"] = dfplot[\"score\"]"
   ],
   "metadata": {
    "collapsed": false,
    "pycharm": {
     "name": "#%%\n"
    }
   }
  },
  {
   "cell_type": "code",
   "execution_count": 66,
   "outputs": [
    {
     "data": {
      "text/plain": "    end_time    end_date  score\n50  23:56:59  2021-10-20     12\n51  23:57:59  2021-10-20     52\n52  23:58:59  2021-10-20     67\n53  23:59:59  2021-10-20     29\n0   00:00:59  2021-10-21     49\n..       ...         ...    ...\n34  18:36:59  2021-11-16     24\n35  18:37:59  2021-11-16     20\n36  18:38:59  2021-11-16     56\n37  18:39:59  2021-11-16      5\n38  18:40:59  2021-11-16     46\n\n[6620 rows x 3 columns]",
      "text/html": "<div>\n<style scoped>\n    .dataframe tbody tr th:only-of-type {\n        vertical-align: middle;\n    }\n\n    .dataframe tbody tr th {\n        vertical-align: top;\n    }\n\n    .dataframe thead th {\n        text-align: right;\n    }\n</style>\n<table border=\"1\" class=\"dataframe\">\n  <thead>\n    <tr style=\"text-align: right;\">\n      <th></th>\n      <th>end_time</th>\n      <th>end_date</th>\n      <th>score</th>\n    </tr>\n  </thead>\n  <tbody>\n    <tr>\n      <th>50</th>\n      <td>23:56:59</td>\n      <td>2021-10-20</td>\n      <td>12</td>\n    </tr>\n    <tr>\n      <th>51</th>\n      <td>23:57:59</td>\n      <td>2021-10-20</td>\n      <td>52</td>\n    </tr>\n    <tr>\n      <th>52</th>\n      <td>23:58:59</td>\n      <td>2021-10-20</td>\n      <td>67</td>\n    </tr>\n    <tr>\n      <th>53</th>\n      <td>23:59:59</td>\n      <td>2021-10-20</td>\n      <td>29</td>\n    </tr>\n    <tr>\n      <th>0</th>\n      <td>00:00:59</td>\n      <td>2021-10-21</td>\n      <td>49</td>\n    </tr>\n    <tr>\n      <th>...</th>\n      <td>...</td>\n      <td>...</td>\n      <td>...</td>\n    </tr>\n    <tr>\n      <th>34</th>\n      <td>18:36:59</td>\n      <td>2021-11-16</td>\n      <td>24</td>\n    </tr>\n    <tr>\n      <th>35</th>\n      <td>18:37:59</td>\n      <td>2021-11-16</td>\n      <td>20</td>\n    </tr>\n    <tr>\n      <th>36</th>\n      <td>18:38:59</td>\n      <td>2021-11-16</td>\n      <td>56</td>\n    </tr>\n    <tr>\n      <th>37</th>\n      <td>18:39:59</td>\n      <td>2021-11-16</td>\n      <td>5</td>\n    </tr>\n    <tr>\n      <th>38</th>\n      <td>18:40:59</td>\n      <td>2021-11-16</td>\n      <td>46</td>\n    </tr>\n  </tbody>\n</table>\n<p>6620 rows × 3 columns</p>\n</div>"
     },
     "execution_count": 66,
     "metadata": {},
     "output_type": "execute_result"
    }
   ],
   "source": [
    "fin"
   ],
   "metadata": {
    "collapsed": false,
    "pycharm": {
     "name": "#%%\n"
    }
   }
  },
  {
   "cell_type": "code",
   "execution_count": 66,
   "outputs": [],
   "source": [],
   "metadata": {
    "collapsed": false,
    "pycharm": {
     "name": "#%%\n"
    }
   }
  },
  {
   "cell_type": "code",
   "execution_count": 67,
   "outputs": [
    {
     "name": "stderr",
     "output_type": "stream",
     "text": [
      "/tmp/ipykernel_8070/890285406.py:1: SettingWithCopyWarning: \n",
      "A value is trying to be set on a copy of a slice from a DataFrame.\n",
      "Try using .loc[row_indexer,col_indexer] = value instead\n",
      "\n",
      "See the caveats in the documentation: https://pandas.pydata.org/pandas-docs/stable/user_guide/indexing.html#returning-a-view-versus-a-copy\n",
      "  dfplot['date'] = dfplot['end_time'].dt.normalize()\n",
      "/tmp/ipykernel_8070/890285406.py:3: SettingWithCopyWarning: \n",
      "A value is trying to be set on a copy of a slice from a DataFrame.\n",
      "Try using .loc[row_indexer,col_indexer] = value instead\n",
      "\n",
      "See the caveats in the documentation: https://pandas.pydata.org/pandas-docs/stable/user_guide/indexing.html#returning-a-view-versus-a-copy\n",
      "  dfplot['date'] = dfplot['date'].dt.strftime('%Y-%m-%d')\n"
     ]
    }
   ],
   "source": [
    "dfplot['date'] = dfplot['end_time'].dt.normalize()\n",
    "# dfplot = dfplot[['normalized', 'score']].groupby('normalized').mean().reset_index()\n",
    "dfplot['date'] = dfplot['date'].dt.strftime('%Y-%m-%d')"
   ],
   "metadata": {
    "collapsed": false,
    "pycharm": {
     "name": "#%%\n"
    }
   }
  },
  {
   "cell_type": "code",
   "execution_count": 68,
   "outputs": [
    {
     "data": {
      "text/plain": "              end_time  flag  level  score  score_max  score_min  \\\n50 2021-10-20 23:56:59     1      1     12         97          0   \n51 2021-10-20 23:57:59     1      2     52         97          0   \n52 2021-10-20 23:58:59     1      1     67         97          0   \n53 2021-10-20 23:59:59     1      1     29         97          0   \n0  2021-10-21 00:00:59     1      2     49         49          0   \n..                 ...   ...    ...    ...        ...        ...   \n34 2021-11-16 18:36:59     1      0     24        100          0   \n35 2021-11-16 18:37:59     1      1     20        100          0   \n36 2021-11-16 18:38:59     1      1     56        100          0   \n37 2021-11-16 18:39:59     1      1      5        100          0   \n38 2021-11-16 18:40:59     1      1     46        100          0   \n\n            start_time  hrv        date  \n50 2021-10-20 23:56:00   88  2021-10-20  \n51 2021-10-20 23:57:00   48  2021-10-20  \n52 2021-10-20 23:58:00   33  2021-10-20  \n53 2021-10-20 23:59:00   71  2021-10-20  \n0  2021-10-21 00:00:00   51  2021-10-21  \n..                 ...  ...         ...  \n34 2021-11-16 18:36:00   76  2021-11-16  \n35 2021-11-16 18:37:00   80  2021-11-16  \n36 2021-11-16 18:38:00   44  2021-11-16  \n37 2021-11-16 18:39:00   95  2021-11-16  \n38 2021-11-16 18:40:00   54  2021-11-16  \n\n[6620 rows x 9 columns]",
      "text/html": "<div>\n<style scoped>\n    .dataframe tbody tr th:only-of-type {\n        vertical-align: middle;\n    }\n\n    .dataframe tbody tr th {\n        vertical-align: top;\n    }\n\n    .dataframe thead th {\n        text-align: right;\n    }\n</style>\n<table border=\"1\" class=\"dataframe\">\n  <thead>\n    <tr style=\"text-align: right;\">\n      <th></th>\n      <th>end_time</th>\n      <th>flag</th>\n      <th>level</th>\n      <th>score</th>\n      <th>score_max</th>\n      <th>score_min</th>\n      <th>start_time</th>\n      <th>hrv</th>\n      <th>date</th>\n    </tr>\n  </thead>\n  <tbody>\n    <tr>\n      <th>50</th>\n      <td>2021-10-20 23:56:59</td>\n      <td>1</td>\n      <td>1</td>\n      <td>12</td>\n      <td>97</td>\n      <td>0</td>\n      <td>2021-10-20 23:56:00</td>\n      <td>88</td>\n      <td>2021-10-20</td>\n    </tr>\n    <tr>\n      <th>51</th>\n      <td>2021-10-20 23:57:59</td>\n      <td>1</td>\n      <td>2</td>\n      <td>52</td>\n      <td>97</td>\n      <td>0</td>\n      <td>2021-10-20 23:57:00</td>\n      <td>48</td>\n      <td>2021-10-20</td>\n    </tr>\n    <tr>\n      <th>52</th>\n      <td>2021-10-20 23:58:59</td>\n      <td>1</td>\n      <td>1</td>\n      <td>67</td>\n      <td>97</td>\n      <td>0</td>\n      <td>2021-10-20 23:58:00</td>\n      <td>33</td>\n      <td>2021-10-20</td>\n    </tr>\n    <tr>\n      <th>53</th>\n      <td>2021-10-20 23:59:59</td>\n      <td>1</td>\n      <td>1</td>\n      <td>29</td>\n      <td>97</td>\n      <td>0</td>\n      <td>2021-10-20 23:59:00</td>\n      <td>71</td>\n      <td>2021-10-20</td>\n    </tr>\n    <tr>\n      <th>0</th>\n      <td>2021-10-21 00:00:59</td>\n      <td>1</td>\n      <td>2</td>\n      <td>49</td>\n      <td>49</td>\n      <td>0</td>\n      <td>2021-10-21 00:00:00</td>\n      <td>51</td>\n      <td>2021-10-21</td>\n    </tr>\n    <tr>\n      <th>...</th>\n      <td>...</td>\n      <td>...</td>\n      <td>...</td>\n      <td>...</td>\n      <td>...</td>\n      <td>...</td>\n      <td>...</td>\n      <td>...</td>\n      <td>...</td>\n    </tr>\n    <tr>\n      <th>34</th>\n      <td>2021-11-16 18:36:59</td>\n      <td>1</td>\n      <td>0</td>\n      <td>24</td>\n      <td>100</td>\n      <td>0</td>\n      <td>2021-11-16 18:36:00</td>\n      <td>76</td>\n      <td>2021-11-16</td>\n    </tr>\n    <tr>\n      <th>35</th>\n      <td>2021-11-16 18:37:59</td>\n      <td>1</td>\n      <td>1</td>\n      <td>20</td>\n      <td>100</td>\n      <td>0</td>\n      <td>2021-11-16 18:37:00</td>\n      <td>80</td>\n      <td>2021-11-16</td>\n    </tr>\n    <tr>\n      <th>36</th>\n      <td>2021-11-16 18:38:59</td>\n      <td>1</td>\n      <td>1</td>\n      <td>56</td>\n      <td>100</td>\n      <td>0</td>\n      <td>2021-11-16 18:38:00</td>\n      <td>44</td>\n      <td>2021-11-16</td>\n    </tr>\n    <tr>\n      <th>37</th>\n      <td>2021-11-16 18:39:59</td>\n      <td>1</td>\n      <td>1</td>\n      <td>5</td>\n      <td>100</td>\n      <td>0</td>\n      <td>2021-11-16 18:39:00</td>\n      <td>95</td>\n      <td>2021-11-16</td>\n    </tr>\n    <tr>\n      <th>38</th>\n      <td>2021-11-16 18:40:59</td>\n      <td>1</td>\n      <td>1</td>\n      <td>46</td>\n      <td>100</td>\n      <td>0</td>\n      <td>2021-11-16 18:40:00</td>\n      <td>54</td>\n      <td>2021-11-16</td>\n    </tr>\n  </tbody>\n</table>\n<p>6620 rows × 9 columns</p>\n</div>"
     },
     "execution_count": 68,
     "metadata": {},
     "output_type": "execute_result"
    }
   ],
   "source": [
    "dfplot"
   ],
   "metadata": {
    "collapsed": false,
    "pycharm": {
     "name": "#%%\n"
    }
   }
  },
  {
   "cell_type": "code",
   "execution_count": 69,
   "outputs": [],
   "source": [
    "import seaborn as sns\n",
    "# import matplotlib.pyplot as plt\n",
    "# import numpy as np\n",
    "\n",
    "# %matplotlib inline"
   ],
   "metadata": {
    "collapsed": false,
    "pycharm": {
     "name": "#%%\n"
    }
   }
  },
  {
   "cell_type": "code",
   "execution_count": 70,
   "outputs": [
    {
     "data": {
      "text/plain": "<seaborn.axisgrid.FacetGrid at 0x7f00beb65cd0>"
     },
     "execution_count": 70,
     "metadata": {},
     "output_type": "execute_result"
    },
    {
     "data": {
      "text/plain": "<Figure size 864x576 with 1 Axes>",
      "image/png": "[encoded data removed]"
     },
     "metadata": {},
     "output_type": "display_data"
    }
   ],
   "source": [
    "sns.set_theme(style=\"whitegrid\")\n",
    "g = sns.catplot(x=\"date\", y=\"hrv\", capsize=.2, palette=\"YlGnBu_d\", height=8, aspect=1.5,\n",
    "                kind=\"point\", data=dfplot)\n",
    "g.despine(left=True)\n",
    "# sns.relplot(data=dfplot, x='score', y='normalized', kind='line')\n"
   ],
   "metadata": {
    "collapsed": false,
    "pycharm": {
     "name": "#%%\n"
    }
   }
  },
  {
   "cell_type": "code",
   "execution_count": 70,
   "outputs": [],
   "source": [],
   "metadata": {
    "collapsed": false,
    "pycharm": {
     "name": "#%%\n"
    }
   }
  }
 ]
}