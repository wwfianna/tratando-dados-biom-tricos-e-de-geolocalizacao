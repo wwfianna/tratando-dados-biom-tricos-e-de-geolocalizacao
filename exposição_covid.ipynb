{
 "nbformat": 4,
 "nbformat_minor": 0,
 "metadata": {
  "colab": {
   "name": "exposição_covid.ipynb",
   "provenance": [],
   "collapsed_sections": [],
   "authorship_tag": "ABX9TyO7i87tvDAcBM+VSV1W50EY"
  },
  "kernelspec": {
   "name": "python3",
   "display_name": "Python 3"
  },
  "language_info": {
   "name": "python"
  }
 },
 "cells": [
  {
   "cell_type": "code",
   "metadata": {
    "id": "adCwnmZrHZ4Y",
    "executionInfo": {
     "status": "ok",
     "timestamp": 1635978666024,
     "user_tz": 180,
     "elapsed": 333,
     "user": {
      "displayName": "Daniel Carvalho",
      "photoUrl": "https://lh3.googleusercontent.com/a/default-user=s64",
      "userId": "06930449971611347903"
     }
    }
   },
   "source": [
    "import pandas as pd\n",
    "import datetime as dt"
   ],
   "execution_count": 9,
   "outputs": []
  },
  {
   "cell_type": "code",
   "metadata": {
    "id": "u52_fU60IkdW",
    "executionInfo": {
     "status": "ok",
     "timestamp": 1635978702931,
     "user_tz": 180,
     "elapsed": 26401,
     "user": {
      "displayName": "Daniel Carvalho",
      "photoUrl": "https://lh3.googleusercontent.com/a/default-user=s64",
      "userId": "06930449971611347903"
     }
    }
   },
   "source": [
    "df = pd.read_json(\"data/Histórico de localização.json\")"
   ],
   "execution_count": 11,
   "outputs": []
  },
  {
   "cell_type": "code",
   "metadata": {
    "colab": {
     "base_uri": "https://localhost:8080/"
    },
    "id": "WTeulCofI8FR",
    "executionInfo": {
     "status": "ok",
     "timestamp": 1635978702936,
     "user_tz": 180,
     "elapsed": 29,
     "user": {
      "displayName": "Daniel Carvalho",
      "photoUrl": "https://lh3.googleusercontent.com/a/default-user=s64",
      "userId": "06930449971611347903"
     }
    },
    "outputId": "3ae537dc-fd5a-4e01-d2ba-7154cb75c1b8"
   },
   "source": [
    "df.describe"
   ],
   "execution_count": 12,
   "outputs": [
    {
     "data": {
      "text/plain": "<bound method NDFrame.describe of                                                  locations\n0        {'timestampMs': '1378508750990', 'latitudeE7':...\n1        {'timestampMs': '1378508766022', 'latitudeE7':...\n2        {'timestampMs': '1378509026816', 'latitudeE7':...\n3        {'timestampMs': '1378509072785', 'latitudeE7':...\n4        {'timestampMs': '1378509118790', 'latitudeE7':...\n...                                                    ...\n1329815  {'timestampMs': '1635960303224', 'latitudeE7':...\n1329816  {'timestampMs': '1635960483754', 'latitudeE7':...\n1329817  {'timestampMs': '1635960664538', 'latitudeE7':...\n1329818  {'timestampMs': '1635960844743', 'latitudeE7':...\n1329819  {'timestampMs': '1635960914443', 'latitudeE7':...\n\n[1329820 rows x 1 columns]>"
     },
     "execution_count": 12,
     "metadata": {},
     "output_type": "execute_result"
    }
   ]
  },
  {
   "cell_type": "code",
   "metadata": {
    "id": "Zn_7S_KoJIVW",
    "executionInfo": {
     "status": "ok",
     "timestamp": 1635978762476,
     "user_tz": 180,
     "elapsed": 56494,
     "user": {
      "displayName": "Daniel Carvalho",
      "photoUrl": "https://lh3.googleusercontent.com/a/default-user=s64",
      "userId": "06930449971611347903"
     }
    }
   },
   "source": [
    "locations = pd.json_normalize(df['locations'])"
   ],
   "execution_count": 13,
   "outputs": []
  },
  {
   "cell_type": "code",
   "metadata": {
    "id": "vGU25vq-UL2f",
    "executionInfo": {
     "status": "ok",
     "timestamp": 1635978763422,
     "user_tz": 180,
     "elapsed": 957,
     "user": {
      "displayName": "Daniel Carvalho",
      "photoUrl": "https://lh3.googleusercontent.com/a/default-user=s64",
      "userId": "06930449971611347903"
     }
    }
   },
   "source": [
    "locations['timestampMs'] = pd.to_numeric(locations['timestampMs'])\n",
    "locations['latitudeE7'] = pd.to_numeric(locations['latitudeE7'])\n",
    "locations['longitudeE7'] = pd.to_numeric(locations['longitudeE7'])"
   ],
   "execution_count": 14,
   "outputs": []
  },
  {
   "cell_type": "code",
   "metadata": {
    "id": "gvMeD30iOgHi",
    "executionInfo": {
     "status": "ok",
     "timestamp": 1635978800277,
     "user_tz": 180,
     "elapsed": 274,
     "user": {
      "displayName": "Daniel Carvalho",
      "photoUrl": "https://lh3.googleusercontent.com/a/default-user=s64",
      "userId": "06930449971611347903"
     }
    }
   },
   "source": [
    "locations = locations[locations['timestampMs'] > dt.datetime.timestamp(dt.datetime.now() - dt.timedelta(days=15))*1000]"
   ],
   "execution_count": 15,
   "outputs": []
  },
  {
   "cell_type": "code",
   "metadata": {
    "id": "jIIaUT202X3k",
    "executionInfo": {
     "status": "ok",
     "timestamp": 1635978803135,
     "user_tz": 180,
     "elapsed": 287,
     "user": {
      "displayName": "Daniel Carvalho",
      "photoUrl": "https://lh3.googleusercontent.com/a/default-user=s64",
      "userId": "06930449971611347903"
     }
    }
   },
   "source": [
    "import requests\n",
    "import time"
   ],
   "execution_count": 16,
   "outputs": []
  },
  {
   "cell_type": "code",
   "metadata": {
    "id": "mqwhS-7g2ZHr",
    "executionInfo": {
     "status": "ok",
     "timestamp": 1635978808536,
     "user_tz": 180,
     "elapsed": 292,
     "user": {
      "displayName": "Daniel Carvalho",
      "photoUrl": "https://lh3.googleusercontent.com/a/default-user=s64",
      "userId": "06930449971611347903"
     }
    }
   },
   "source": [
    "####\n",
    "# URL de conexão com a API CEP Aberto\n",
    "####\n",
    "with open('token.txt') as file:\n",
    "    token = file.readline()\n",
    "\n",
    "url = \"https://www.cepaberto.com/api/v3/nearest\"\n",
    "headers = {'Authorization': 'Token token=' + token}"
   ],
   "execution_count": 17,
   "outputs": []
  },
  {
   "cell_type": "code",
   "metadata": {
    "id": "qeiLMtpAT2mp",
    "executionInfo": {
     "status": "ok",
     "timestamp": 1635978839473,
     "user_tz": 180,
     "elapsed": 29427,
     "user": {
      "displayName": "Daniel Carvalho",
      "photoUrl": "https://lh3.googleusercontent.com/a/default-user=s64",
      "userId": "06930449971611347903"
     }
    }
   },
   "source": [
    "entries = []\n",
    "initTimestamp = 0\n",
    "initLatitude = 0\n",
    "initLongitude = 0\n",
    "for index, location in locations.iterrows():\n",
    "  if initTimestamp == 0:\n",
    "    initTimestamp = location['timestampMs']\n",
    "    initLatitude = location['latitudeE7']\n",
    "    initLongitude = location['longitudeE7']\n",
    "  else:\n",
    "    ####\n",
    "    # Verifica se houve alguma mudança significativa na localização baseada nos dados de lat e lng fornecidos pelo GPS\n",
    "    ####\n",
    "    if abs(location['latitudeE7'] - initLatitude) > 50000 or abs(location['longitudeE7'] - initLongitude) > 50000:\n",
    "      duration = (dt.datetime.fromtimestamp(location['timestampMs']/1000) - dt.datetime.fromtimestamp(initTimestamp/1000)).total_seconds()\n",
    "      ####\n",
    "      # O usuário deve ter permanecido por pelo menos 30min no local para ser considerado\n",
    "      ####\n",
    "      if duration > 1800:\n",
    "        ####\n",
    "        # Formatando os dados de localização para se comunicar com a API do CEP Aberto\n",
    "        ####\n",
    "        latitude = location['latitudeE7']/10000000\n",
    "        longitude = location['longitudeE7']/10000000\n",
    "        response = requests.get(url, headers=headers, params={'lat': latitude, 'lng': longitude})\n",
    "        cep = response.json()['cep']\n",
    "\n",
    "        ####\n",
    "        # Adicionando entrada à lista\n",
    "        ####\n",
    "        entries.append({'date' : dt.datetime.fromtimestamp(location['timestampMs']/1000).strftime(\"%Y/%m/%d, %H:%M:%S\"),\n",
    "                        'duration(s)' : duration,\n",
    "                        'cep' : cep,\n",
    "                        'latitude' : latitude,\n",
    "                        'longitude' : longitude})\n",
    "        \n",
    "        ####\n",
    "        # A API é free mas limitada à uma consulta por segundo\n",
    "        ####\n",
    "        time.sleep(1)\n",
    "        \n",
    "      initTimestamp = location['timestampMs']\n",
    "      initLatitude = location['latitudeE7']\n",
    "      initLongitude = location['longitudeE7']"
   ],
   "execution_count": 18,
   "outputs": []
  },
  {
   "cell_type": "code",
   "metadata": {
    "colab": {
     "base_uri": "https://localhost:8080/"
    },
    "id": "ctNRqP4Kbqsx",
    "executionInfo": {
     "status": "ok",
     "timestamp": 1635978846789,
     "user_tz": 180,
     "elapsed": 300,
     "user": {
      "displayName": "Daniel Carvalho",
      "photoUrl": "https://lh3.googleusercontent.com/a/default-user=s64",
      "userId": "06930449971611347903"
     }
    },
    "outputId": "1a87ccc1-e475-4c0e-cac5-0fbc2dc6ee6a"
   },
   "source": [
    "len(entries)"
   ],
   "execution_count": 19,
   "outputs": [
    {
     "data": {
      "text/plain": "18"
     },
     "execution_count": 19,
     "metadata": {},
     "output_type": "execute_result"
    }
   ]
  },
  {
   "cell_type": "code",
   "metadata": {
    "colab": {
     "base_uri": "https://localhost:8080/"
    },
    "id": "9wmFoMFE1X2-",
    "executionInfo": {
     "status": "ok",
     "timestamp": 1635978848596,
     "user_tz": 180,
     "elapsed": 279,
     "user": {
      "displayName": "Daniel Carvalho",
      "photoUrl": "https://lh3.googleusercontent.com/a/default-user=s64",
      "userId": "06930449971611347903"
     }
    },
    "outputId": "3f6fa144-63d0-49d9-8d96-829cad8d3431"
   },
   "source": [
    "entries"
   ],
   "execution_count": 20,
   "outputs": [
    {
     "data": {
      "text/plain": "[{'date': '2021/10/22, 17:23:17',\n  'duration(s)': 102338.422,\n  'cep': '21815190',\n  'latitude': -22.8821218,\n  'longitude': -43.460417},\n {'date': '2021/10/24, 14:45:51',\n  'duration(s)': 161701.578,\n  'cep': '21810101',\n  'latitude': -22.881368,\n  'longitude': -43.4576364},\n {'date': '2021/10/24, 16:13:11',\n  'duration(s)': 5118.068,\n  'cep': '21715460',\n  'latitude': -22.882494,\n  'longitude': -43.449378},\n {'date': '2021/10/24, 17:40:18',\n  'duration(s)': 4740.597,\n  'cep': '21810101',\n  'latitude': -22.8795846,\n  'longitude': -43.4579725},\n {'date': '2021/10/25, 11:18:48',\n  'duration(s)': 63449.34,\n  'cep': '21810101',\n  'latitude': -22.8812182,\n  'longitude': -43.4581077},\n {'date': '2021/10/25, 19:23:56',\n  'duration(s)': 15053.392,\n  'cep': '21715340',\n  'latitude': -22.8794555,\n  'longitude': -43.4430027},\n {'date': '2021/10/25, 21:05:13',\n  'duration(s)': 2139.678,\n  'cep': '21820000',\n  'latitude': -22.8792749,\n  'longitude': -43.464273},\n {'date': '2021/10/25, 21:43:27',\n  'duration(s)': 2102.262,\n  'cep': '21820000',\n  'latitude': -22.8792749,\n  'longitude': -43.464273},\n {'date': '2021/10/26, 09:33:15',\n  'duration(s)': 41100.652,\n  'cep': '21775120',\n  'latitude': -22.8884633,\n  'longitude': -43.4463278},\n {'date': '2021/10/26, 11:12:41',\n  'duration(s)': 5966.308,\n  'cep': '21775440',\n  'latitude': -22.8809835,\n  'longitude': -43.4453653},\n {'date': '2021/10/29, 17:56:17',\n  'duration(s)': 283416.278,\n  'cep': '21815510',\n  'latitude': -22.8812207,\n  'longitude': -43.4546505},\n {'date': '2021/10/29, 18:41:49',\n  'duration(s)': 2732.076,\n  'cep': '21715460',\n  'latitude': -22.8824446,\n  'longitude': -43.449444},\n {'date': '2021/10/30, 14:19:06',\n  'duration(s)': 70636.364,\n  'cep': '21815510',\n  'latitude': -22.8816719,\n  'longitude': -43.4559014},\n {'date': '2021/10/30, 16:44:48',\n  'duration(s)': 5334.15,\n  'cep': '21330110',\n  'latitude': -22.8812873,\n  'longitude': -43.372451},\n {'date': '2021/11/02, 13:56:13',\n  'duration(s)': 247787.271,\n  'cep': '21715380',\n  'latitude': -22.8776267,\n  'longitude': -43.442541},\n {'date': '2021/11/02, 15:09:30',\n  'duration(s)': 2932.225,\n  'cep': '21715460',\n  'latitude': -22.8824956,\n  'longitude': -43.4493831},\n {'date': '2021/11/02, 17:08:34',\n  'duration(s)': 7142.96,\n  'cep': '21715460',\n  'latitude': -22.8824956,\n  'longitude': -43.4493831},\n {'date': '2021/11/02, 18:01:01',\n  'duration(s)': 3036.882,\n  'cep': '22775040',\n  'latitude': -22.972918,\n  'longitude': -43.3894025}]"
     },
     "execution_count": 20,
     "metadata": {},
     "output_type": "execute_result"
    }
   ]
  },
  {
   "cell_type": "code",
   "metadata": {
    "id": "mK6eBVxo8CZ9"
   },
   "source": [
    ""
   ],
   "execution_count": null,
   "outputs": []
  }
 ]
}