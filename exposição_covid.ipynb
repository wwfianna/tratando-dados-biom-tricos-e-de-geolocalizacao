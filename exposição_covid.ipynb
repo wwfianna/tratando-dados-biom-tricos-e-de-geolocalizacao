{
 "nbformat": 4,
 "nbformat_minor": 0,
 "metadata": {
  "colab": {
   "name": "exposição_covid.ipynb",
   "provenance": [],
   "collapsed_sections": [],
   "authorship_tag": "ABX9TyO7i87tvDAcBM+VSV1W50EY"
  },
  "kernelspec": {
   "name": "python3",
   "language": "python",
   "display_name": "Python 3"
  },
  "language_info": {
   "name": "python"
  }
 },
 "cells": [
  {
   "cell_type": "code",
   "metadata": {
    "id": "adCwnmZrHZ4Y",
    "executionInfo": {
     "status": "ok",
     "timestamp": 1635978666024,
     "user_tz": 180,
     "elapsed": 333,
     "user": {
      "displayName": "Daniel Carvalho",
      "photoUrl": "https://lh3.googleusercontent.com/a/default-user=s64",
      "userId": "06930449971611347903"
     }
    }
   },
   "source": [
    "import pandas as pd\n",
    "import datetime as dt"
   ],
   "execution_count": 1,
   "outputs": []
  },
  {
   "cell_type": "code",
   "metadata": {
    "id": "u52_fU60IkdW",
    "executionInfo": {
     "status": "ok",
     "timestamp": 1635978702931,
     "user_tz": 180,
     "elapsed": 26401,
     "user": {
      "displayName": "Daniel Carvalho",
      "photoUrl": "https://lh3.googleusercontent.com/a/default-user=s64",
      "userId": "06930449971611347903"
     }
    }
   },
   "source": [
    "loc_history = pd.read_json(\"data/Histórico de localização.json\")"
   ],
   "execution_count": 2,
   "outputs": []
  },
  {
   "cell_type": "code",
   "metadata": {
    "colab": {
     "base_uri": "https://localhost:8080/"
    },
    "id": "WTeulCofI8FR",
    "executionInfo": {
     "status": "ok",
     "timestamp": 1635978702936,
     "user_tz": 180,
     "elapsed": 29,
     "user": {
      "displayName": "Daniel Carvalho",
      "photoUrl": "https://lh3.googleusercontent.com/a/default-user=s64",
      "userId": "06930449971611347903"
     }
    },
    "outputId": "3ae537dc-fd5a-4e01-d2ba-7154cb75c1b8"
   },
   "source": [
    "loc_history.describe"
   ],
   "execution_count": 3,
   "outputs": [
    {
     "data": {
      "text/plain": "<bound method NDFrame.describe of                                                  locations\n0        {'timestampMs': '1378508750990', 'latitudeE7':...\n1        {'timestampMs': '1378508766022', 'latitudeE7':...\n2        {'timestampMs': '1378509026816', 'latitudeE7':...\n3        {'timestampMs': '1378509072785', 'latitudeE7':...\n4        {'timestampMs': '1378509118790', 'latitudeE7':...\n...                                                    ...\n1329815  {'timestampMs': '1635960303224', 'latitudeE7':...\n1329816  {'timestampMs': '1635960483754', 'latitudeE7':...\n1329817  {'timestampMs': '1635960664538', 'latitudeE7':...\n1329818  {'timestampMs': '1635960844743', 'latitudeE7':...\n1329819  {'timestampMs': '1635960914443', 'latitudeE7':...\n\n[1329820 rows x 1 columns]>"
     },
     "execution_count": 3,
     "metadata": {},
     "output_type": "execute_result"
    }
   ]
  },
  {
   "cell_type": "code",
   "metadata": {
    "id": "Zn_7S_KoJIVW",
    "executionInfo": {
     "status": "ok",
     "timestamp": 1635978762476,
     "user_tz": 180,
     "elapsed": 56494,
     "user": {
      "displayName": "Daniel Carvalho",
      "photoUrl": "https://lh3.googleusercontent.com/a/default-user=s64",
      "userId": "06930449971611347903"
     }
    }
   },
   "source": [
    "locations = pd.json_normalize(loc_history['locations'])"
   ],
   "execution_count": 4,
   "outputs": []
  },
  {
   "cell_type": "code",
   "metadata": {
    "id": "vGU25vq-UL2f",
    "executionInfo": {
     "status": "ok",
     "timestamp": 1635978763422,
     "user_tz": 180,
     "elapsed": 957,
     "user": {
      "displayName": "Daniel Carvalho",
      "photoUrl": "https://lh3.googleusercontent.com/a/default-user=s64",
      "userId": "06930449971611347903"
     }
    }
   },
   "source": [
    "locations['timestampMs'] = pd.to_numeric(locations['timestampMs'])\n",
    "locations['latitudeE7'] = pd.to_numeric(locations['latitudeE7'])\n",
    "locations['longitudeE7'] = pd.to_numeric(locations['longitudeE7'])"
   ],
   "execution_count": 5,
   "outputs": []
  },
  {
   "cell_type": "code",
   "metadata": {
    "id": "gvMeD30iOgHi",
    "executionInfo": {
     "status": "ok",
     "timestamp": 1635978800277,
     "user_tz": 180,
     "elapsed": 274,
     "user": {
      "displayName": "Daniel Carvalho",
      "photoUrl": "https://lh3.googleusercontent.com/a/default-user=s64",
      "userId": "06930449971611347903"
     }
    }
   },
   "source": [
    "locations = locations[\n",
    "    locations['timestampMs'] > dt.datetime.timestamp(dt.datetime.now() - dt.timedelta(days=15)) * 1000]"
   ],
   "execution_count": 6,
   "outputs": []
  },
  {
   "cell_type": "code",
   "metadata": {
    "id": "jIIaUT202X3k",
    "executionInfo": {
     "status": "ok",
     "timestamp": 1635978803135,
     "user_tz": 180,
     "elapsed": 287,
     "user": {
      "displayName": "Daniel Carvalho",
      "photoUrl": "https://lh3.googleusercontent.com/a/default-user=s64",
      "userId": "06930449971611347903"
     }
    }
   },
   "source": [
    "import requests\n",
    "import time"
   ],
   "execution_count": 7,
   "outputs": []
  },
  {
   "cell_type": "code",
   "metadata": {
    "id": "mqwhS-7g2ZHr",
    "executionInfo": {
     "status": "ok",
     "timestamp": 1635978808536,
     "user_tz": 180,
     "elapsed": 292,
     "user": {
      "displayName": "Daniel Carvalho",
      "photoUrl": "https://lh3.googleusercontent.com/a/default-user=s64",
      "userId": "06930449971611347903"
     }
    }
   },
   "source": [
    "####\n",
    "# URL de conexão com a API CEP Aberto\n",
    "####\n",
    "with open('token.txt') as file:\n",
    "    token = file.readline()\n",
    "\n",
    "url = \"https://www.cepaberto.com/api/v3/nearest\"\n",
    "headers = {'Authorization': 'Token token=' + token}"
   ],
   "execution_count": 8,
   "outputs": []
  },
  {
   "cell_type": "code",
   "metadata": {
    "id": "qeiLMtpAT2mp",
    "executionInfo": {
     "status": "ok",
     "timestamp": 1635978839473,
     "user_tz": 180,
     "elapsed": 29427,
     "user": {
      "displayName": "Daniel Carvalho",
      "photoUrl": "https://lh3.googleusercontent.com/a/default-user=s64",
      "userId": "06930449971611347903"
     }
    }
   },
   "source": [
    "entries = pd.DataFrame()\n",
    "initTimestamp = 0\n",
    "initLatitude = 0\n",
    "initLongitude = 0\n",
    "for index, location in locations.iterrows():\n",
    "    if initTimestamp == 0:\n",
    "        initTimestamp = location['timestampMs']\n",
    "        initLatitude = location['latitudeE7']\n",
    "        initLongitude = location['longitudeE7']\n",
    "    else:\n",
    "        ####\n",
    "        # Verifica se houve alguma mudança significativa na localização baseada nos dados de lat e lng fornecidos pelo GPS\n",
    "        ####\n",
    "        if abs(location['latitudeE7'] - initLatitude) > 50000 or abs(location['longitudeE7'] - initLongitude) > 50000:\n",
    "            duration = (dt.datetime.fromtimestamp(location['timestampMs'] / 1000) - dt.datetime.fromtimestamp(\n",
    "                initTimestamp / 1000)).total_seconds()\n",
    "            ####\n",
    "            # O usuário deve ter permanecido por pelo menos 30min no local para ser considerado\n",
    "            ####\n",
    "            if duration > 1800:\n",
    "                ####\n",
    "                # Formatando os dados de localização para se comunicar com a API do CEP Aberto\n",
    "                ####\n",
    "                latitude = location['latitudeE7'] / 10000000\n",
    "                longitude = location['longitudeE7'] / 10000000\n",
    "                response = requests.get(url, headers=headers, params={'lat': latitude, 'lng': longitude})\n",
    "                cep = response.json()['cep']\n",
    "\n",
    "                ####\n",
    "                # Adicionando entrada à lista\n",
    "                ####\n",
    "                tmp = {\n",
    "                    'data' : dt.datetime.fromtimestamp(location['timestampMs'] / 1000).strftime(\"%Y/%m/%d, %H:%M:%S\"),\n",
    "                    'duration' : duration,\n",
    "                    'cep' : cep\n",
    "                }\n",
    "                entries = entries.append(tmp, ignore_index=True, sort=False)\n",
    "\n",
    "                ####\n",
    "                # A API é free mas limitada à uma consulta por segundo\n",
    "                ####\n",
    "                time.sleep(1)\n",
    "\n",
    "            initTimestamp = location['timestampMs']\n",
    "            initLatitude = location['latitudeE7']\n",
    "            initLongitude = location['longitudeE7']"
   ],
   "execution_count": 9,
   "outputs": []
  },
  {
   "cell_type": "code",
   "metadata": {
    "colab": {
     "base_uri": "https://localhost:8080/"
    },
    "id": "ctNRqP4Kbqsx",
    "executionInfo": {
     "status": "ok",
     "timestamp": 1635978846789,
     "user_tz": 180,
     "elapsed": 300,
     "user": {
      "displayName": "Daniel Carvalho",
      "photoUrl": "https://lh3.googleusercontent.com/a/default-user=s64",
      "userId": "06930449971611347903"
     }
    },
    "outputId": "1a87ccc1-e475-4c0e-cac5-0fbc2dc6ee6a"
   },
   "source": [
    "###\n",
    "# Carregamento dos dados da prefeitura do Rio de Janeiro\n",
    "###\n",
    "covid_cases = pd.read_csv('data/Dados_CEP_MRJ_covid_19.csv')\n"
   ],
   "execution_count": 10,
   "outputs": [
    {
     "name": "stderr",
     "output_type": "stream",
     "text": [
      "/home/daniel/anaconda3/lib/python3.8/site-packages/IPython/core/interactiveshell.py:3165: DtypeWarning: Columns (5,6) have mixed types.Specify dtype option on import or set low_memory=False.\n",
      "  has_raised = await self.run_ast_nodes(code_ast.body, cell_name,\n"
     ]
    }
   ]
  },
  {
   "cell_type": "code",
   "metadata": {
    "id": "mK6eBVxo8CZ9"
   },
   "source": [
    "###\n",
    "# Convertendo os dados de data para objeto datetime e selecionando apenas os últimos 15 dias\n",
    "###\n",
    "covid_cases['dt_inicio_sintomas'] = pd.to_datetime(covid_cases['dt_inicio_sintomas'])\n",
    "covid_cases[covid_cases['dt_inicio_sintomas'] > dt.datetime.now() - dt.timedelta(days=15)]"
   ],
   "execution_count": 11,
   "outputs": [
    {
     "data": {
      "text/plain": "        dt_notific dt_inicio_sintomas bairro_resid__estadia  \\\n7172    10/28/2021         2021-10-24                  MARE   \n7233    10/30/2021         2021-10-30     CAMPO DOS AFONSOS   \n7335    10/28/2021         2021-10-25               VIDIGAL   \n7339    11/03/2021         2021-10-30       TODOS OS SANTOS   \n7450    11/03/2021         2021-10-28                TIJUCA   \n...            ...                ...                   ...   \n439866  10/28/2021         2021-10-24                 MEIER   \n439873  10/27/2021         2021-10-23          HIGIENOPOLIS   \n439878  10/27/2021         2021-10-25                 PENHA   \n439881  10/27/2021         2021-10-24                CENTRO   \n439885  10/28/2021         2021-10-28                  MARE   \n\n        ap_residencia_estadia    evolucao dt_evolucao       cep  \\\n7172                      3.1       óbito  11/02/2021  21046240   \n7233                      5.1  recuperado  11/01/2021  21740001   \n7335                      2.1  recuperado  10/30/2021  22450230   \n7339                      3.2       óbito  10/30/2021  20735060   \n7450                      2.2       óbito  10/28/2021  20550000   \n...                       ...         ...         ...       ...   \n439866                    3.2       Ativo         NaN  20735240   \n439873                    3.2       Ativo         NaN  21050720   \n439878                    3.1       Ativo         NaN  21070600   \n439881                    1.0       Ativo         NaN  20021270   \n439885                    3.1       Ativo         NaN  21044252   \n\n       data_atualizacao  \n7172         04/11/2021  \n7233         04/11/2021  \n7335         04/11/2021  \n7339         04/11/2021  \n7450         04/11/2021  \n...                 ...  \n439866       11/04/2021  \n439873       11/04/2021  \n439878       11/04/2021  \n439881       11/04/2021  \n439885       11/04/2021  \n\n[1296 rows x 8 columns]",
      "text/html": "<div>\n<style scoped>\n    .dataframe tbody tr th:only-of-type {\n        vertical-align: middle;\n    }\n\n    .dataframe tbody tr th {\n        vertical-align: top;\n    }\n\n    .dataframe thead th {\n        text-align: right;\n    }\n</style>\n<table border=\"1\" class=\"dataframe\">\n  <thead>\n    <tr style=\"text-align: right;\">\n      <th></th>\n      <th>dt_notific</th>\n      <th>dt_inicio_sintomas</th>\n      <th>bairro_resid__estadia</th>\n      <th>ap_residencia_estadia</th>\n      <th>evolucao</th>\n      <th>dt_evolucao</th>\n      <th>cep</th>\n      <th>data_atualizacao</th>\n    </tr>\n  </thead>\n  <tbody>\n    <tr>\n      <th>7172</th>\n      <td>10/28/2021</td>\n      <td>2021-10-24</td>\n      <td>MARE</td>\n      <td>3.1</td>\n      <td>óbito</td>\n      <td>11/02/2021</td>\n      <td>21046240</td>\n      <td>04/11/2021</td>\n    </tr>\n    <tr>\n      <th>7233</th>\n      <td>10/30/2021</td>\n      <td>2021-10-30</td>\n      <td>CAMPO DOS AFONSOS</td>\n      <td>5.1</td>\n      <td>recuperado</td>\n      <td>11/01/2021</td>\n      <td>21740001</td>\n      <td>04/11/2021</td>\n    </tr>\n    <tr>\n      <th>7335</th>\n      <td>10/28/2021</td>\n      <td>2021-10-25</td>\n      <td>VIDIGAL</td>\n      <td>2.1</td>\n      <td>recuperado</td>\n      <td>10/30/2021</td>\n      <td>22450230</td>\n      <td>04/11/2021</td>\n    </tr>\n    <tr>\n      <th>7339</th>\n      <td>11/03/2021</td>\n      <td>2021-10-30</td>\n      <td>TODOS OS SANTOS</td>\n      <td>3.2</td>\n      <td>óbito</td>\n      <td>10/30/2021</td>\n      <td>20735060</td>\n      <td>04/11/2021</td>\n    </tr>\n    <tr>\n      <th>7450</th>\n      <td>11/03/2021</td>\n      <td>2021-10-28</td>\n      <td>TIJUCA</td>\n      <td>2.2</td>\n      <td>óbito</td>\n      <td>10/28/2021</td>\n      <td>20550000</td>\n      <td>04/11/2021</td>\n    </tr>\n    <tr>\n      <th>...</th>\n      <td>...</td>\n      <td>...</td>\n      <td>...</td>\n      <td>...</td>\n      <td>...</td>\n      <td>...</td>\n      <td>...</td>\n      <td>...</td>\n    </tr>\n    <tr>\n      <th>439866</th>\n      <td>10/28/2021</td>\n      <td>2021-10-24</td>\n      <td>MEIER</td>\n      <td>3.2</td>\n      <td>Ativo</td>\n      <td>NaN</td>\n      <td>20735240</td>\n      <td>11/04/2021</td>\n    </tr>\n    <tr>\n      <th>439873</th>\n      <td>10/27/2021</td>\n      <td>2021-10-23</td>\n      <td>HIGIENOPOLIS</td>\n      <td>3.2</td>\n      <td>Ativo</td>\n      <td>NaN</td>\n      <td>21050720</td>\n      <td>11/04/2021</td>\n    </tr>\n    <tr>\n      <th>439878</th>\n      <td>10/27/2021</td>\n      <td>2021-10-25</td>\n      <td>PENHA</td>\n      <td>3.1</td>\n      <td>Ativo</td>\n      <td>NaN</td>\n      <td>21070600</td>\n      <td>11/04/2021</td>\n    </tr>\n    <tr>\n      <th>439881</th>\n      <td>10/27/2021</td>\n      <td>2021-10-24</td>\n      <td>CENTRO</td>\n      <td>1.0</td>\n      <td>Ativo</td>\n      <td>NaN</td>\n      <td>20021270</td>\n      <td>11/04/2021</td>\n    </tr>\n    <tr>\n      <th>439885</th>\n      <td>10/28/2021</td>\n      <td>2021-10-28</td>\n      <td>MARE</td>\n      <td>3.1</td>\n      <td>Ativo</td>\n      <td>NaN</td>\n      <td>21044252</td>\n      <td>11/04/2021</td>\n    </tr>\n  </tbody>\n</table>\n<p>1296 rows × 8 columns</p>\n</div>"
     },
     "execution_count": 11,
     "metadata": {},
     "output_type": "execute_result"
    }
   ]
  },
  {
   "cell_type": "code",
   "execution_count": 12,
   "outputs": [],
   "source": [
    "###\n",
    "# Realizando a contagem de casos em cada CEP\n",
    "###\n",
    "relevant_covid_cases_cep = covid_cases[\n",
    "    covid_cases['dt_inicio_sintomas'] > dt.datetime.now() - dt.timedelta(days=15)].groupby(['cep']).count()\n",
    "\n",
    "relevant_covid_cases_cep = relevant_covid_cases_cep.reset_index()\n",
    "\n",
    "cases_by_cep = pd.DataFrame()\n",
    "cases_by_cep[['cep', 'cases']] = relevant_covid_cases_cep[['cep', 'dt_inicio_sintomas']]\n"
   ],
   "metadata": {
    "collapsed": false,
    "pycharm": {
     "name": "#%%\n"
    }
   }
  },
  {
   "cell_type": "code",
   "execution_count": 13,
   "outputs": [],
   "source": [
    "###\n",
    "# Cruzando os dados de permanência em cada CEP com a incidência de casos de COVID-19\n",
    "###\n",
    "fin = entries.merge(cases_by_cep, on='cep', how='left').fillna(0)"
   ],
   "metadata": {
    "collapsed": false,
    "pycharm": {
     "name": "#%%\n"
    }
   }
  },
  {
   "cell_type": "code",
   "execution_count": 14,
   "outputs": [
    {
     "data": {
      "text/plain": "         cep                  data    duration  cases\n0   21815190  2021/10/22, 17:23:17   93774.039    0.0\n1   21810101  2021/10/24, 14:45:51  161701.578    0.0\n2   21715460  2021/10/24, 16:13:11    5118.068    0.0\n3   21810101  2021/10/24, 17:40:18    4740.597    0.0\n4   21810101  2021/10/25, 11:18:48   63449.340    0.0\n5   21715340  2021/10/25, 19:23:56   15053.392    0.0\n6   21820000  2021/10/25, 21:05:13    2139.678    0.0\n7   21820000  2021/10/25, 21:43:27    2102.262    0.0\n8   21775120  2021/10/26, 09:33:15   41100.652    0.0\n9   21775440  2021/10/26, 11:12:41    5966.308    0.0\n10  21815510  2021/10/29, 17:56:17  283416.278    0.0\n11  21715460  2021/10/29, 18:41:49    2732.076    0.0\n12  21815510  2021/10/30, 14:19:06   70636.364    0.0\n13  21330110  2021/10/30, 16:44:48    5334.150    0.0\n14  21715380  2021/11/02, 13:56:13  247787.271    0.0\n15  21715460  2021/11/02, 15:09:30    2932.225    0.0\n16  21715460  2021/11/02, 17:08:34    7142.960    0.0\n17  22775040  2021/11/02, 18:01:01    3036.882    0.0",
      "text/html": "<div>\n<style scoped>\n    .dataframe tbody tr th:only-of-type {\n        vertical-align: middle;\n    }\n\n    .dataframe tbody tr th {\n        vertical-align: top;\n    }\n\n    .dataframe thead th {\n        text-align: right;\n    }\n</style>\n<table border=\"1\" class=\"dataframe\">\n  <thead>\n    <tr style=\"text-align: right;\">\n      <th></th>\n      <th>cep</th>\n      <th>data</th>\n      <th>duration</th>\n      <th>cases</th>\n    </tr>\n  </thead>\n  <tbody>\n    <tr>\n      <th>0</th>\n      <td>21815190</td>\n      <td>2021/10/22, 17:23:17</td>\n      <td>93774.039</td>\n      <td>0.0</td>\n    </tr>\n    <tr>\n      <th>1</th>\n      <td>21810101</td>\n      <td>2021/10/24, 14:45:51</td>\n      <td>161701.578</td>\n      <td>0.0</td>\n    </tr>\n    <tr>\n      <th>2</th>\n      <td>21715460</td>\n      <td>2021/10/24, 16:13:11</td>\n      <td>5118.068</td>\n      <td>0.0</td>\n    </tr>\n    <tr>\n      <th>3</th>\n      <td>21810101</td>\n      <td>2021/10/24, 17:40:18</td>\n      <td>4740.597</td>\n      <td>0.0</td>\n    </tr>\n    <tr>\n      <th>4</th>\n      <td>21810101</td>\n      <td>2021/10/25, 11:18:48</td>\n      <td>63449.340</td>\n      <td>0.0</td>\n    </tr>\n    <tr>\n      <th>5</th>\n      <td>21715340</td>\n      <td>2021/10/25, 19:23:56</td>\n      <td>15053.392</td>\n      <td>0.0</td>\n    </tr>\n    <tr>\n      <th>6</th>\n      <td>21820000</td>\n      <td>2021/10/25, 21:05:13</td>\n      <td>2139.678</td>\n      <td>0.0</td>\n    </tr>\n    <tr>\n      <th>7</th>\n      <td>21820000</td>\n      <td>2021/10/25, 21:43:27</td>\n      <td>2102.262</td>\n      <td>0.0</td>\n    </tr>\n    <tr>\n      <th>8</th>\n      <td>21775120</td>\n      <td>2021/10/26, 09:33:15</td>\n      <td>41100.652</td>\n      <td>0.0</td>\n    </tr>\n    <tr>\n      <th>9</th>\n      <td>21775440</td>\n      <td>2021/10/26, 11:12:41</td>\n      <td>5966.308</td>\n      <td>0.0</td>\n    </tr>\n    <tr>\n      <th>10</th>\n      <td>21815510</td>\n      <td>2021/10/29, 17:56:17</td>\n      <td>283416.278</td>\n      <td>0.0</td>\n    </tr>\n    <tr>\n      <th>11</th>\n      <td>21715460</td>\n      <td>2021/10/29, 18:41:49</td>\n      <td>2732.076</td>\n      <td>0.0</td>\n    </tr>\n    <tr>\n      <th>12</th>\n      <td>21815510</td>\n      <td>2021/10/30, 14:19:06</td>\n      <td>70636.364</td>\n      <td>0.0</td>\n    </tr>\n    <tr>\n      <th>13</th>\n      <td>21330110</td>\n      <td>2021/10/30, 16:44:48</td>\n      <td>5334.150</td>\n      <td>0.0</td>\n    </tr>\n    <tr>\n      <th>14</th>\n      <td>21715380</td>\n      <td>2021/11/02, 13:56:13</td>\n      <td>247787.271</td>\n      <td>0.0</td>\n    </tr>\n    <tr>\n      <th>15</th>\n      <td>21715460</td>\n      <td>2021/11/02, 15:09:30</td>\n      <td>2932.225</td>\n      <td>0.0</td>\n    </tr>\n    <tr>\n      <th>16</th>\n      <td>21715460</td>\n      <td>2021/11/02, 17:08:34</td>\n      <td>7142.960</td>\n      <td>0.0</td>\n    </tr>\n    <tr>\n      <th>17</th>\n      <td>22775040</td>\n      <td>2021/11/02, 18:01:01</td>\n      <td>3036.882</td>\n      <td>0.0</td>\n    </tr>\n  </tbody>\n</table>\n</div>"
     },
     "execution_count": 14,
     "metadata": {},
     "output_type": "execute_result"
    }
   ],
   "source": [
    "###\n",
    "# print\n",
    "###\n",
    "fin"
   ],
   "metadata": {
    "collapsed": false,
    "pycharm": {
     "name": "#%%\n"
    }
   }
  }
 ]
}