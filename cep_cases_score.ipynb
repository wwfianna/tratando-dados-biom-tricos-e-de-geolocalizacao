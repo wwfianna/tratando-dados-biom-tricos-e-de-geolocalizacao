{
 "cells": [
  {
   "cell_type": "markdown",
   "id": "0c67a2dd",
   "metadata": {},
   "source": [
    "### Janela temporal a ser usada será do dia 12 de novembro de 2021 (em timestamp). Numa aplicação prática, este script rodaria diariamente, sempre computando os dados do dia anterior."
   ]
  },
  {
   "cell_type": "code",
   "execution_count": 1,
   "id": "270e3828",
   "metadata": {},
   "outputs": [],
   "source": [
    "start_date = 1636751080"
   ]
  },
  {
   "cell_type": "markdown",
   "id": "d51ed611",
   "metadata": {},
   "source": [
    "## Dados de geolocalização obtidos da conta Google"
   ]
  },
  {
   "cell_type": "code",
   "execution_count": 2,
   "id": "0c27645e",
   "metadata": {},
   "outputs": [],
   "source": [
    "import pandas as pd\n",
    "import datetime as dt"
   ]
  },
  {
   "cell_type": "code",
   "execution_count": 3,
   "id": "20617f31",
   "metadata": {},
   "outputs": [],
   "source": [
    "df = pd.read_json(\"data/Histórico de localização.json\")"
   ]
  },
  {
   "cell_type": "code",
   "execution_count": 4,
   "id": "14d41096",
   "metadata": {},
   "outputs": [],
   "source": [
    "gmaps_dump = pd.json_normalize(df['locations'])"
   ]
  },
  {
   "cell_type": "code",
   "execution_count": 5,
   "id": "561a02a1",
   "metadata": {},
   "outputs": [
    {
     "data": {
      "text/plain": "           timestampMs  latitudeE7  longitudeE7  accuracy  \\\n0        1378508750990  -229917099   -433592736       984   \n1        1378508766022  -229917099   -433592736       984   \n2        1378509026816  -229917099   -433592736       984   \n3        1378509072785  -229949469   -433592859         5   \n4        1378509118790  -229958679   -433588200         5   \n...                ...         ...          ...       ...   \n1333172  1637085823418  -228824983   -434494961        16   \n1333173  1637087035398  -228825122   -434494240        17   \n1333174  1637087113572  -228825232   -434494486        18   \n1333175  1637087543043  -228825339   -434494259        18   \n1333176  1637087569413  -228824926   -434494398        14   \n\n                                                  activity source   deviceTag  \\\n0        [{'timestampMs': '1378508517137', 'activity': ...   CELL   248904379   \n1        [{'timestampMs': '1378508772583', 'activity': ...   CELL   248904379   \n2        [{'timestampMs': '1378508969051', 'activity': ...   CELL   248904379   \n3                                                      NaN    GPS   248904379   \n4                                                      NaN    GPS   248904379   \n...                                                    ...    ...         ...   \n1333172                                                NaN   WIFI -2055370419   \n1333173                                                NaN   WIFI -2055370419   \n1333174                                                NaN   WIFI -2055370419   \n1333175                                                NaN   WIFI -2055370419   \n1333176                                                NaN   WIFI -2055370419   \n\n         altitude  verticalAccuracy platform platformType  \\\n0             NaN               NaN      NaN          NaN   \n1             NaN               NaN      NaN          NaN   \n2             NaN               NaN      NaN          NaN   \n3             NaN               NaN      NaN          NaN   \n4             NaN               NaN      NaN          NaN   \n...           ...               ...      ...          ...   \n1333172      45.0               3.0      NaN      ANDROID   \n1333173      45.0               3.0      NaN      ANDROID   \n1333174      45.0               3.0      NaN      ANDROID   \n1333175      45.0               3.0      NaN      ANDROID   \n1333176      45.0               3.0      NaN      ANDROID   \n\n                                          locationMetadata  velocity  heading  \n0                                                      NaN       NaN      NaN  \n1                                                      NaN       NaN      NaN  \n2                                                      NaN       NaN      NaN  \n3                                                      NaN       NaN      NaN  \n4                                                      NaN       NaN      NaN  \n...                                                    ...       ...      ...  \n1333172  [{'timestampMs': '1637085843471', 'wifiScan': ...       NaN      NaN  \n1333173  [{'timestampMs': '1637087068860', 'wifiScan': ...       NaN      NaN  \n1333174  [{'timestampMs': '1637087133582', 'wifiScan': ...       NaN      NaN  \n1333175  [{'timestampMs': '1637087543044', 'wifiScan': ...       NaN      NaN  \n1333176  [{'timestampMs': '1637087563007', 'wifiScan': ...       NaN      NaN  \n\n[1333177 rows x 14 columns]",
      "text/html": "<div>\n<style scoped>\n    .dataframe tbody tr th:only-of-type {\n        vertical-align: middle;\n    }\n\n    .dataframe tbody tr th {\n        vertical-align: top;\n    }\n\n    .dataframe thead th {\n        text-align: right;\n    }\n</style>\n<table border=\"1\" class=\"dataframe\">\n  <thead>\n    <tr style=\"text-align: right;\">\n      <th></th>\n      <th>timestampMs</th>\n      <th>latitudeE7</th>\n      <th>longitudeE7</th>\n      <th>accuracy</th>\n      <th>activity</th>\n      <th>source</th>\n      <th>deviceTag</th>\n      <th>altitude</th>\n      <th>verticalAccuracy</th>\n      <th>platform</th>\n      <th>platformType</th>\n      <th>locationMetadata</th>\n      <th>velocity</th>\n      <th>heading</th>\n    </tr>\n  </thead>\n  <tbody>\n    <tr>\n      <th>0</th>\n      <td>1378508750990</td>\n      <td>-229917099</td>\n      <td>-433592736</td>\n      <td>984</td>\n      <td>[{'timestampMs': '1378508517137', 'activity': ...</td>\n      <td>CELL</td>\n      <td>248904379</td>\n      <td>NaN</td>\n      <td>NaN</td>\n      <td>NaN</td>\n      <td>NaN</td>\n      <td>NaN</td>\n      <td>NaN</td>\n      <td>NaN</td>\n    </tr>\n    <tr>\n      <th>1</th>\n      <td>1378508766022</td>\n      <td>-229917099</td>\n      <td>-433592736</td>\n      <td>984</td>\n      <td>[{'timestampMs': '1378508772583', 'activity': ...</td>\n      <td>CELL</td>\n      <td>248904379</td>\n      <td>NaN</td>\n      <td>NaN</td>\n      <td>NaN</td>\n      <td>NaN</td>\n      <td>NaN</td>\n      <td>NaN</td>\n      <td>NaN</td>\n    </tr>\n    <tr>\n      <th>2</th>\n      <td>1378509026816</td>\n      <td>-229917099</td>\n      <td>-433592736</td>\n      <td>984</td>\n      <td>[{'timestampMs': '1378508969051', 'activity': ...</td>\n      <td>CELL</td>\n      <td>248904379</td>\n      <td>NaN</td>\n      <td>NaN</td>\n      <td>NaN</td>\n      <td>NaN</td>\n      <td>NaN</td>\n      <td>NaN</td>\n      <td>NaN</td>\n    </tr>\n    <tr>\n      <th>3</th>\n      <td>1378509072785</td>\n      <td>-229949469</td>\n      <td>-433592859</td>\n      <td>5</td>\n      <td>NaN</td>\n      <td>GPS</td>\n      <td>248904379</td>\n      <td>NaN</td>\n      <td>NaN</td>\n      <td>NaN</td>\n      <td>NaN</td>\n      <td>NaN</td>\n      <td>NaN</td>\n      <td>NaN</td>\n    </tr>\n    <tr>\n      <th>4</th>\n      <td>1378509118790</td>\n      <td>-229958679</td>\n      <td>-433588200</td>\n      <td>5</td>\n      <td>NaN</td>\n      <td>GPS</td>\n      <td>248904379</td>\n      <td>NaN</td>\n      <td>NaN</td>\n      <td>NaN</td>\n      <td>NaN</td>\n      <td>NaN</td>\n      <td>NaN</td>\n      <td>NaN</td>\n    </tr>\n    <tr>\n      <th>...</th>\n      <td>...</td>\n      <td>...</td>\n      <td>...</td>\n      <td>...</td>\n      <td>...</td>\n      <td>...</td>\n      <td>...</td>\n      <td>...</td>\n      <td>...</td>\n      <td>...</td>\n      <td>...</td>\n      <td>...</td>\n      <td>...</td>\n      <td>...</td>\n    </tr>\n    <tr>\n      <th>1333172</th>\n      <td>1637085823418</td>\n      <td>-228824983</td>\n      <td>-434494961</td>\n      <td>16</td>\n      <td>NaN</td>\n      <td>WIFI</td>\n      <td>-2055370419</td>\n      <td>45.0</td>\n      <td>3.0</td>\n      <td>NaN</td>\n      <td>ANDROID</td>\n      <td>[{'timestampMs': '1637085843471', 'wifiScan': ...</td>\n      <td>NaN</td>\n      <td>NaN</td>\n    </tr>\n    <tr>\n      <th>1333173</th>\n      <td>1637087035398</td>\n      <td>-228825122</td>\n      <td>-434494240</td>\n      <td>17</td>\n      <td>NaN</td>\n      <td>WIFI</td>\n      <td>-2055370419</td>\n      <td>45.0</td>\n      <td>3.0</td>\n      <td>NaN</td>\n      <td>ANDROID</td>\n      <td>[{'timestampMs': '1637087068860', 'wifiScan': ...</td>\n      <td>NaN</td>\n      <td>NaN</td>\n    </tr>\n    <tr>\n      <th>1333174</th>\n      <td>1637087113572</td>\n      <td>-228825232</td>\n      <td>-434494486</td>\n      <td>18</td>\n      <td>NaN</td>\n      <td>WIFI</td>\n      <td>-2055370419</td>\n      <td>45.0</td>\n      <td>3.0</td>\n      <td>NaN</td>\n      <td>ANDROID</td>\n      <td>[{'timestampMs': '1637087133582', 'wifiScan': ...</td>\n      <td>NaN</td>\n      <td>NaN</td>\n    </tr>\n    <tr>\n      <th>1333175</th>\n      <td>1637087543043</td>\n      <td>-228825339</td>\n      <td>-434494259</td>\n      <td>18</td>\n      <td>NaN</td>\n      <td>WIFI</td>\n      <td>-2055370419</td>\n      <td>45.0</td>\n      <td>3.0</td>\n      <td>NaN</td>\n      <td>ANDROID</td>\n      <td>[{'timestampMs': '1637087543044', 'wifiScan': ...</td>\n      <td>NaN</td>\n      <td>NaN</td>\n    </tr>\n    <tr>\n      <th>1333176</th>\n      <td>1637087569413</td>\n      <td>-228824926</td>\n      <td>-434494398</td>\n      <td>14</td>\n      <td>NaN</td>\n      <td>WIFI</td>\n      <td>-2055370419</td>\n      <td>45.0</td>\n      <td>3.0</td>\n      <td>NaN</td>\n      <td>ANDROID</td>\n      <td>[{'timestampMs': '1637087563007', 'wifiScan': ...</td>\n      <td>NaN</td>\n      <td>NaN</td>\n    </tr>\n  </tbody>\n</table>\n<p>1333177 rows × 14 columns</p>\n</div>"
     },
     "execution_count": 5,
     "metadata": {},
     "output_type": "execute_result"
    }
   ],
   "source": [
    "gmaps_dump"
   ]
  },
  {
   "cell_type": "code",
   "execution_count": 6,
   "id": "134e9a2c",
   "metadata": {},
   "outputs": [],
   "source": [
    "gmaps_dump['timestampMs'] = gmaps_dump['timestampMs'].apply(lambda x: x[:-3])\n",
    "gmaps_dump['timestampMs'] = pd.to_numeric(gmaps_dump['timestampMs'])\n",
    "gmaps_dump['latitudeE7'] = pd.to_numeric(gmaps_dump['latitudeE7'])\n",
    "gmaps_dump['longitudeE7'] = pd.to_numeric(gmaps_dump['longitudeE7'])"
   ]
  },
  {
   "cell_type": "code",
   "execution_count": 7,
   "id": "dea4fe6b",
   "metadata": {},
   "outputs": [],
   "source": [
    "gmaps_dump = gmaps_dump[gmaps_dump['timestampMs'].between(start_date, start_date + 86400)]"
   ]
  },
  {
   "cell_type": "code",
   "execution_count": 8,
   "id": "4d290e02",
   "metadata": {},
   "outputs": [
    {
     "data": {
      "text/plain": "         timestampMs  latitudeE7  longitudeE7  accuracy  \\\n1331574   1636751826  -228825046   -434493861        14   \n1331575   1636753689  -228825034   -434493802        13   \n1331576   1636756495  -228825034   -434493802        13   \n1331577   1636756512  -228825696   -434493948        20   \n1331578   1636756535  -228825640   -434493957        20   \n...              ...         ...          ...       ...   \n1332405   1636833957  -228825032   -434493805        13   \n1332406   1636835617  -228824926   -434493904        15   \n1332407   1636836119  -228825032   -434493805        13   \n1332408   1636836973  -228825021   -434493842        20   \n1332409   1636837427  -228825055   -434493850        13   \n\n                                                  activity source   deviceTag  \\\n1331574                                                NaN   WIFI -2055370419   \n1331575                                                NaN   WIFI -2055370419   \n1331576  [{'timestampMs': '1636753524052', 'activity': ...   WIFI -2055370419   \n1331577                                                NaN   WIFI -2055370419   \n1331578  [{'timestampMs': '1636756597275', 'activity': ...   WIFI -2055370419   \n...                                                    ...    ...         ...   \n1332405  [{'timestampMs': '1636834358519', 'activity': ...   WIFI -2055370419   \n1332406  [{'timestampMs': '1636814057941', 'activity': ...   WIFI   335518007   \n1332407                                                NaN   WIFI -2055370419   \n1332408                                                NaN   WIFI -2055370419   \n1332409                                                NaN   WIFI -2055370419   \n\n         altitude  verticalAccuracy platform platformType  \\\n1331574      45.0               3.0      NaN      ANDROID   \n1331575      45.0               3.0      NaN      ANDROID   \n1331576      45.0               3.0      NaN      ANDROID   \n1331577      45.0               3.0      NaN      ANDROID   \n1331578      45.0               3.0      NaN      ANDROID   \n...           ...               ...      ...          ...   \n1332405      45.0               3.0      NaN      ANDROID   \n1332406      45.0               3.0      NaN      ANDROID   \n1332407      45.0               3.0      NaN      ANDROID   \n1332408      45.0               3.0      NaN      ANDROID   \n1332409      45.0               3.0      NaN      ANDROID   \n\n                                          locationMetadata  velocity  heading  \n1331574  [{'timestampMs': '1636751848413', 'wifiScan': ...       NaN      NaN  \n1331575                                                NaN       NaN      NaN  \n1331576  [{'timestampMs': '1636753710339', 'wifiScan': ...       NaN      NaN  \n1331577                                                NaN       NaN      NaN  \n1331578  [{'timestampMs': '1636756555184', 'wifiScan': ...       NaN      NaN  \n...                                                    ...       ...      ...  \n1332405  [{'timestampMs': '1636833977479', 'wifiScan': ...       NaN      NaN  \n1332406                                                NaN       NaN      NaN  \n1332407                                                NaN       NaN      NaN  \n1332408                                                NaN       NaN      NaN  \n1332409  [{'timestampMs': '1636837447320', 'wifiScan': ...       NaN      NaN  \n\n[836 rows x 14 columns]",
      "text/html": "<div>\n<style scoped>\n    .dataframe tbody tr th:only-of-type {\n        vertical-align: middle;\n    }\n\n    .dataframe tbody tr th {\n        vertical-align: top;\n    }\n\n    .dataframe thead th {\n        text-align: right;\n    }\n</style>\n<table border=\"1\" class=\"dataframe\">\n  <thead>\n    <tr style=\"text-align: right;\">\n      <th></th>\n      <th>timestampMs</th>\n      <th>latitudeE7</th>\n      <th>longitudeE7</th>\n      <th>accuracy</th>\n      <th>activity</th>\n      <th>source</th>\n      <th>deviceTag</th>\n      <th>altitude</th>\n      <th>verticalAccuracy</th>\n      <th>platform</th>\n      <th>platformType</th>\n      <th>locationMetadata</th>\n      <th>velocity</th>\n      <th>heading</th>\n    </tr>\n  </thead>\n  <tbody>\n    <tr>\n      <th>1331574</th>\n      <td>1636751826</td>\n      <td>-228825046</td>\n      <td>-434493861</td>\n      <td>14</td>\n      <td>NaN</td>\n      <td>WIFI</td>\n      <td>-2055370419</td>\n      <td>45.0</td>\n      <td>3.0</td>\n      <td>NaN</td>\n      <td>ANDROID</td>\n      <td>[{'timestampMs': '1636751848413', 'wifiScan': ...</td>\n      <td>NaN</td>\n      <td>NaN</td>\n    </tr>\n    <tr>\n      <th>1331575</th>\n      <td>1636753689</td>\n      <td>-228825034</td>\n      <td>-434493802</td>\n      <td>13</td>\n      <td>NaN</td>\n      <td>WIFI</td>\n      <td>-2055370419</td>\n      <td>45.0</td>\n      <td>3.0</td>\n      <td>NaN</td>\n      <td>ANDROID</td>\n      <td>NaN</td>\n      <td>NaN</td>\n      <td>NaN</td>\n    </tr>\n    <tr>\n      <th>1331576</th>\n      <td>1636756495</td>\n      <td>-228825034</td>\n      <td>-434493802</td>\n      <td>13</td>\n      <td>[{'timestampMs': '1636753524052', 'activity': ...</td>\n      <td>WIFI</td>\n      <td>-2055370419</td>\n      <td>45.0</td>\n      <td>3.0</td>\n      <td>NaN</td>\n      <td>ANDROID</td>\n      <td>[{'timestampMs': '1636753710339', 'wifiScan': ...</td>\n      <td>NaN</td>\n      <td>NaN</td>\n    </tr>\n    <tr>\n      <th>1331577</th>\n      <td>1636756512</td>\n      <td>-228825696</td>\n      <td>-434493948</td>\n      <td>20</td>\n      <td>NaN</td>\n      <td>WIFI</td>\n      <td>-2055370419</td>\n      <td>45.0</td>\n      <td>3.0</td>\n      <td>NaN</td>\n      <td>ANDROID</td>\n      <td>NaN</td>\n      <td>NaN</td>\n      <td>NaN</td>\n    </tr>\n    <tr>\n      <th>1331578</th>\n      <td>1636756535</td>\n      <td>-228825640</td>\n      <td>-434493957</td>\n      <td>20</td>\n      <td>[{'timestampMs': '1636756597275', 'activity': ...</td>\n      <td>WIFI</td>\n      <td>-2055370419</td>\n      <td>45.0</td>\n      <td>3.0</td>\n      <td>NaN</td>\n      <td>ANDROID</td>\n      <td>[{'timestampMs': '1636756555184', 'wifiScan': ...</td>\n      <td>NaN</td>\n      <td>NaN</td>\n    </tr>\n    <tr>\n      <th>...</th>\n      <td>...</td>\n      <td>...</td>\n      <td>...</td>\n      <td>...</td>\n      <td>...</td>\n      <td>...</td>\n      <td>...</td>\n      <td>...</td>\n      <td>...</td>\n      <td>...</td>\n      <td>...</td>\n      <td>...</td>\n      <td>...</td>\n      <td>...</td>\n    </tr>\n    <tr>\n      <th>1332405</th>\n      <td>1636833957</td>\n      <td>-228825032</td>\n      <td>-434493805</td>\n      <td>13</td>\n      <td>[{'timestampMs': '1636834358519', 'activity': ...</td>\n      <td>WIFI</td>\n      <td>-2055370419</td>\n      <td>45.0</td>\n      <td>3.0</td>\n      <td>NaN</td>\n      <td>ANDROID</td>\n      <td>[{'timestampMs': '1636833977479', 'wifiScan': ...</td>\n      <td>NaN</td>\n      <td>NaN</td>\n    </tr>\n    <tr>\n      <th>1332406</th>\n      <td>1636835617</td>\n      <td>-228824926</td>\n      <td>-434493904</td>\n      <td>15</td>\n      <td>[{'timestampMs': '1636814057941', 'activity': ...</td>\n      <td>WIFI</td>\n      <td>335518007</td>\n      <td>45.0</td>\n      <td>3.0</td>\n      <td>NaN</td>\n      <td>ANDROID</td>\n      <td>NaN</td>\n      <td>NaN</td>\n      <td>NaN</td>\n    </tr>\n    <tr>\n      <th>1332407</th>\n      <td>1636836119</td>\n      <td>-228825032</td>\n      <td>-434493805</td>\n      <td>13</td>\n      <td>NaN</td>\n      <td>WIFI</td>\n      <td>-2055370419</td>\n      <td>45.0</td>\n      <td>3.0</td>\n      <td>NaN</td>\n      <td>ANDROID</td>\n      <td>NaN</td>\n      <td>NaN</td>\n      <td>NaN</td>\n    </tr>\n    <tr>\n      <th>1332408</th>\n      <td>1636836973</td>\n      <td>-228825021</td>\n      <td>-434493842</td>\n      <td>20</td>\n      <td>NaN</td>\n      <td>WIFI</td>\n      <td>-2055370419</td>\n      <td>45.0</td>\n      <td>3.0</td>\n      <td>NaN</td>\n      <td>ANDROID</td>\n      <td>NaN</td>\n      <td>NaN</td>\n      <td>NaN</td>\n    </tr>\n    <tr>\n      <th>1332409</th>\n      <td>1636837427</td>\n      <td>-228825055</td>\n      <td>-434493850</td>\n      <td>13</td>\n      <td>NaN</td>\n      <td>WIFI</td>\n      <td>-2055370419</td>\n      <td>45.0</td>\n      <td>3.0</td>\n      <td>NaN</td>\n      <td>ANDROID</td>\n      <td>[{'timestampMs': '1636837447320', 'wifiScan': ...</td>\n      <td>NaN</td>\n      <td>NaN</td>\n    </tr>\n  </tbody>\n</table>\n<p>836 rows × 14 columns</p>\n</div>"
     },
     "execution_count": 8,
     "metadata": {},
     "output_type": "execute_result"
    }
   ],
   "source": [
    "gmaps_dump"
   ]
  },
  {
   "cell_type": "code",
   "execution_count": 9,
   "id": "69c36962",
   "metadata": {},
   "outputs": [],
   "source": [
    "import requests\n",
    "import time"
   ]
  },
  {
   "cell_type": "raw",
   "id": "1b66adbf",
   "metadata": {},
   "source": [
    "####\n",
    "# URL de conexão com a API CEP Aberto\n",
    "####\n",
    "with open('token.txt') as file:\n",
    "    token = file.readline()\n",
    "\n",
    "url = \"https://www.cepaberto.com/api/v3/nearest\"\n",
    "headers = {'Authorization': 'Token token=' + token}"
   ]
  },
  {
   "cell_type": "markdown",
   "id": "959b5a20",
   "metadata": {},
   "source": [
    "### Utilizando Google Geocoding API"
   ]
  },
  {
   "cell_type": "code",
   "execution_count": 10,
   "id": "d3590427",
   "metadata": {},
   "outputs": [],
   "source": [
    "with open('token2.txt') as file:\n",
    "    token = file.readline()\n",
    "\n",
    "url = \"https://maps.googleapis.com/maps/api/geocode/json?latlng=\"\n",
    "key = token"
   ]
  },
  {
   "cell_type": "code",
   "execution_count": 11,
   "id": "d3aded3c",
   "metadata": {},
   "outputs": [],
   "source": [
    "locations = pd.DataFrame()\n",
    "initTimestamp = 0\n",
    "initLatitude = 0\n",
    "initLongitude = 0\n",
    "for index, row in gmaps_dump.iterrows():\n",
    "    if initTimestamp == 0:\n",
    "        initTimestamp = row['timestampMs']\n",
    "        initLatitude = row['latitudeE7']\n",
    "        initLongitude = row['longitudeE7']\n",
    "    else:\n",
    "        if abs(row['latitudeE7'] - initLatitude) > 50000 or abs(row['longitudeE7'] - initLongitude) > 50000:\n",
    "\n",
    "            duration = (dt.datetime.fromtimestamp(row['timestampMs']) - dt.datetime.fromtimestamp(\n",
    "                initTimestamp)).total_seconds()\n",
    "            ####\n",
    "            # Formatando os dados de localização para se comunicar com a API\n",
    "            ####\n",
    "            latitude = row['latitudeE7'] / 10000000\n",
    "            longitude = row['longitudeE7'] / 10000000\n",
    "            response = requests.get(f\"https://maps.googleapis.com/maps/api/geocode/json?latlng={latitude},{longitude}&key={key}\")\n",
    "            cep = response.json()['results'][0]['address_components'][-1]['long_name']\n",
    "            cep = cep[:5] + cep[6:9]\n",
    "            ####\n",
    "            # Adicionando entrada à lista\n",
    "            ####\n",
    "            tmp = {\n",
    "                'date': dt.datetime.fromtimestamp(row['timestampMs']),\n",
    "                'duration': duration,\n",
    "                'cep': cep\n",
    "            }\n",
    "            locations = locations.append(tmp, ignore_index=True, sort=False)\n",
    "\n",
    "            initTimestamp = row['timestampMs']\n",
    "            initLatitude = row['latitudeE7']\n",
    "            initLongitude = row['longitudeE7']"
   ]
  },
  {
   "cell_type": "code",
   "execution_count": 12,
   "id": "c58abefb",
   "metadata": {},
   "outputs": [
    {
     "data": {
      "text/plain": "                   date  duration       cep\n0   2021-11-13 10:30:42   58416.0  21710231\n1   2021-11-13 10:35:05     263.0  21750000\n2   2021-11-13 10:37:06     121.0  21740001\n3   2021-11-13 10:39:08     122.0  21750001\n4   2021-11-13 11:04:44    1536.0  21741340\n..                  ...       ...       ...\n120 2021-11-13 14:19:13     383.0  21715150\n121 2021-11-13 14:22:00     167.0  21715065\n122 2021-11-13 14:24:50     170.0  21710030\n123 2021-11-13 16:07:26    6156.0  21715000\n124 2021-11-13 16:11:24     238.0  21775480\n\n[125 rows x 3 columns]",
      "text/html": "<div>\n<style scoped>\n    .dataframe tbody tr th:only-of-type {\n        vertical-align: middle;\n    }\n\n    .dataframe tbody tr th {\n        vertical-align: top;\n    }\n\n    .dataframe thead th {\n        text-align: right;\n    }\n</style>\n<table border=\"1\" class=\"dataframe\">\n  <thead>\n    <tr style=\"text-align: right;\">\n      <th></th>\n      <th>date</th>\n      <th>duration</th>\n      <th>cep</th>\n    </tr>\n  </thead>\n  <tbody>\n    <tr>\n      <th>0</th>\n      <td>2021-11-13 10:30:42</td>\n      <td>58416.0</td>\n      <td>21710231</td>\n    </tr>\n    <tr>\n      <th>1</th>\n      <td>2021-11-13 10:35:05</td>\n      <td>263.0</td>\n      <td>21750000</td>\n    </tr>\n    <tr>\n      <th>2</th>\n      <td>2021-11-13 10:37:06</td>\n      <td>121.0</td>\n      <td>21740001</td>\n    </tr>\n    <tr>\n      <th>3</th>\n      <td>2021-11-13 10:39:08</td>\n      <td>122.0</td>\n      <td>21750001</td>\n    </tr>\n    <tr>\n      <th>4</th>\n      <td>2021-11-13 11:04:44</td>\n      <td>1536.0</td>\n      <td>21741340</td>\n    </tr>\n    <tr>\n      <th>...</th>\n      <td>...</td>\n      <td>...</td>\n      <td>...</td>\n    </tr>\n    <tr>\n      <th>120</th>\n      <td>2021-11-13 14:19:13</td>\n      <td>383.0</td>\n      <td>21715150</td>\n    </tr>\n    <tr>\n      <th>121</th>\n      <td>2021-11-13 14:22:00</td>\n      <td>167.0</td>\n      <td>21715065</td>\n    </tr>\n    <tr>\n      <th>122</th>\n      <td>2021-11-13 14:24:50</td>\n      <td>170.0</td>\n      <td>21710030</td>\n    </tr>\n    <tr>\n      <th>123</th>\n      <td>2021-11-13 16:07:26</td>\n      <td>6156.0</td>\n      <td>21715000</td>\n    </tr>\n    <tr>\n      <th>124</th>\n      <td>2021-11-13 16:11:24</td>\n      <td>238.0</td>\n      <td>21775480</td>\n    </tr>\n  </tbody>\n</table>\n<p>125 rows × 3 columns</p>\n</div>"
     },
     "execution_count": 12,
     "metadata": {},
     "output_type": "execute_result"
    }
   ],
   "source": [
    "locations"
   ]
  },
  {
   "cell_type": "markdown",
   "id": "7fcc505d",
   "metadata": {},
   "source": [
    "## Dados do Painel COVID-19 RIO"
   ]
  },
  {
   "cell_type": "code",
   "execution_count": 13,
   "id": "65666773",
   "metadata": {},
   "outputs": [
    {
     "name": "stderr",
     "output_type": "stream",
     "text": [
      "/home/daniel/anaconda3/lib/python3.8/site-packages/IPython/core/interactiveshell.py:3444: DtypeWarning: Columns (5,6) have mixed types.Specify dtype option on import or set low_memory=False.\n",
      "  exec(code_obj, self.user_global_ns, self.user_ns)\n"
     ]
    }
   ],
   "source": [
    "covid_cases = pd.read_csv('data/Dados_CEP_MRJ_covid_19.csv')"
   ]
  },
  {
   "cell_type": "code",
   "execution_count": 14,
   "id": "cb854615",
   "metadata": {},
   "outputs": [],
   "source": [
    "###\n",
    "# Convertendo os dados de data para objeto datetime e selecionando apenas os 30 dias anteriores\n",
    "###\n",
    "covid_cases['dt_inicio_sintomas'] = pd.to_datetime(covid_cases['dt_inicio_sintomas'])\n",
    "covid_cases = covid_cases[(covid_cases['dt_inicio_sintomas'] < dt.datetime.fromtimestamp(start_date)) &\n",
    "            (dt.datetime.fromtimestamp(start_date) - dt.timedelta(days=30) < covid_cases['dt_inicio_sintomas'])]"
   ]
  },
  {
   "cell_type": "code",
   "execution_count": 15,
   "id": "71fb1bb2",
   "metadata": {},
   "outputs": [],
   "source": [
    "###\n",
    "# Realizando a contagem de casos em cada CEP\n",
    "###\n",
    "relevant_cases_cep = covid_cases.groupby(['cep']).count().reset_index()\n",
    "\n",
    "cases_by_cep = pd.DataFrame()\n",
    "cases_by_cep[['cep', 'cases']] = relevant_cases_cep[['cep', 'dt_inicio_sintomas']]"
   ]
  },
  {
   "cell_type": "code",
   "execution_count": 16,
   "id": "cb9a6f27",
   "metadata": {},
   "outputs": [
    {
     "data": {
      "text/plain": "           cep  cases\n0     20000000      4\n1     20010000      1\n2     20020021      1\n3     20021170      1\n4     20031918      1\n...        ...    ...\n1814  23570210      1\n1815  23585660      1\n1816  23587220      1\n1817  23590020      1\n1818  23595200      1\n\n[1819 rows x 2 columns]",
      "text/html": "<div>\n<style scoped>\n    .dataframe tbody tr th:only-of-type {\n        vertical-align: middle;\n    }\n\n    .dataframe tbody tr th {\n        vertical-align: top;\n    }\n\n    .dataframe thead th {\n        text-align: right;\n    }\n</style>\n<table border=\"1\" class=\"dataframe\">\n  <thead>\n    <tr style=\"text-align: right;\">\n      <th></th>\n      <th>cep</th>\n      <th>cases</th>\n    </tr>\n  </thead>\n  <tbody>\n    <tr>\n      <th>0</th>\n      <td>20000000</td>\n      <td>4</td>\n    </tr>\n    <tr>\n      <th>1</th>\n      <td>20010000</td>\n      <td>1</td>\n    </tr>\n    <tr>\n      <th>2</th>\n      <td>20020021</td>\n      <td>1</td>\n    </tr>\n    <tr>\n      <th>3</th>\n      <td>20021170</td>\n      <td>1</td>\n    </tr>\n    <tr>\n      <th>4</th>\n      <td>20031918</td>\n      <td>1</td>\n    </tr>\n    <tr>\n      <th>...</th>\n      <td>...</td>\n      <td>...</td>\n    </tr>\n    <tr>\n      <th>1814</th>\n      <td>23570210</td>\n      <td>1</td>\n    </tr>\n    <tr>\n      <th>1815</th>\n      <td>23585660</td>\n      <td>1</td>\n    </tr>\n    <tr>\n      <th>1816</th>\n      <td>23587220</td>\n      <td>1</td>\n    </tr>\n    <tr>\n      <th>1817</th>\n      <td>23590020</td>\n      <td>1</td>\n    </tr>\n    <tr>\n      <th>1818</th>\n      <td>23595200</td>\n      <td>1</td>\n    </tr>\n  </tbody>\n</table>\n<p>1819 rows × 2 columns</p>\n</div>"
     },
     "execution_count": 16,
     "metadata": {},
     "output_type": "execute_result"
    }
   ],
   "source": [
    "cases_by_cep"
   ]
  },
  {
   "cell_type": "markdown",
   "id": "2d5a4d72",
   "metadata": {},
   "source": [
    "### Cruzando os dados de permanência em cada CEP com a incidência de casos de COVID-19"
   ]
  },
  {
   "cell_type": "code",
   "execution_count": 17,
   "id": "e43f31a0",
   "metadata": {},
   "outputs": [
    {
     "data": {
      "text/plain": "           cep  cases\n0     20000000      4\n1     20010000      1\n2     20020021      1\n3     20021170      1\n4     20031918      1\n...        ...    ...\n1814  23570210      1\n1815  23585660      1\n1816  23587220      1\n1817  23590020      1\n1818  23595200      1\n\n[1819 rows x 2 columns]",
      "text/html": "<div>\n<style scoped>\n    .dataframe tbody tr th:only-of-type {\n        vertical-align: middle;\n    }\n\n    .dataframe tbody tr th {\n        vertical-align: top;\n    }\n\n    .dataframe thead th {\n        text-align: right;\n    }\n</style>\n<table border=\"1\" class=\"dataframe\">\n  <thead>\n    <tr style=\"text-align: right;\">\n      <th></th>\n      <th>cep</th>\n      <th>cases</th>\n    </tr>\n  </thead>\n  <tbody>\n    <tr>\n      <th>0</th>\n      <td>20000000</td>\n      <td>4</td>\n    </tr>\n    <tr>\n      <th>1</th>\n      <td>20010000</td>\n      <td>1</td>\n    </tr>\n    <tr>\n      <th>2</th>\n      <td>20020021</td>\n      <td>1</td>\n    </tr>\n    <tr>\n      <th>3</th>\n      <td>20021170</td>\n      <td>1</td>\n    </tr>\n    <tr>\n      <th>4</th>\n      <td>20031918</td>\n      <td>1</td>\n    </tr>\n    <tr>\n      <th>...</th>\n      <td>...</td>\n      <td>...</td>\n    </tr>\n    <tr>\n      <th>1814</th>\n      <td>23570210</td>\n      <td>1</td>\n    </tr>\n    <tr>\n      <th>1815</th>\n      <td>23585660</td>\n      <td>1</td>\n    </tr>\n    <tr>\n      <th>1816</th>\n      <td>23587220</td>\n      <td>1</td>\n    </tr>\n    <tr>\n      <th>1817</th>\n      <td>23590020</td>\n      <td>1</td>\n    </tr>\n    <tr>\n      <th>1818</th>\n      <td>23595200</td>\n      <td>1</td>\n    </tr>\n  </tbody>\n</table>\n<p>1819 rows × 2 columns</p>\n</div>"
     },
     "execution_count": 17,
     "metadata": {},
     "output_type": "execute_result"
    }
   ],
   "source": [
    "cases_by_cep"
   ]
  },
  {
   "cell_type": "code",
   "execution_count": 18,
   "id": "97f096a9",
   "metadata": {},
   "outputs": [
    {
     "data": {
      "text/plain": "                   date  duration       cep\n0   2021-11-13 10:30:42   58416.0  21710231\n1   2021-11-13 10:35:05     263.0  21750000\n2   2021-11-13 10:37:06     121.0  21740001\n3   2021-11-13 10:39:08     122.0  21750001\n4   2021-11-13 11:04:44    1536.0  21741340\n..                  ...       ...       ...\n120 2021-11-13 14:19:13     383.0  21715150\n121 2021-11-13 14:22:00     167.0  21715065\n122 2021-11-13 14:24:50     170.0  21710030\n123 2021-11-13 16:07:26    6156.0  21715000\n124 2021-11-13 16:11:24     238.0  21775480\n\n[125 rows x 3 columns]",
      "text/html": "<div>\n<style scoped>\n    .dataframe tbody tr th:only-of-type {\n        vertical-align: middle;\n    }\n\n    .dataframe tbody tr th {\n        vertical-align: top;\n    }\n\n    .dataframe thead th {\n        text-align: right;\n    }\n</style>\n<table border=\"1\" class=\"dataframe\">\n  <thead>\n    <tr style=\"text-align: right;\">\n      <th></th>\n      <th>date</th>\n      <th>duration</th>\n      <th>cep</th>\n    </tr>\n  </thead>\n  <tbody>\n    <tr>\n      <th>0</th>\n      <td>2021-11-13 10:30:42</td>\n      <td>58416.0</td>\n      <td>21710231</td>\n    </tr>\n    <tr>\n      <th>1</th>\n      <td>2021-11-13 10:35:05</td>\n      <td>263.0</td>\n      <td>21750000</td>\n    </tr>\n    <tr>\n      <th>2</th>\n      <td>2021-11-13 10:37:06</td>\n      <td>121.0</td>\n      <td>21740001</td>\n    </tr>\n    <tr>\n      <th>3</th>\n      <td>2021-11-13 10:39:08</td>\n      <td>122.0</td>\n      <td>21750001</td>\n    </tr>\n    <tr>\n      <th>4</th>\n      <td>2021-11-13 11:04:44</td>\n      <td>1536.0</td>\n      <td>21741340</td>\n    </tr>\n    <tr>\n      <th>...</th>\n      <td>...</td>\n      <td>...</td>\n      <td>...</td>\n    </tr>\n    <tr>\n      <th>120</th>\n      <td>2021-11-13 14:19:13</td>\n      <td>383.0</td>\n      <td>21715150</td>\n    </tr>\n    <tr>\n      <th>121</th>\n      <td>2021-11-13 14:22:00</td>\n      <td>167.0</td>\n      <td>21715065</td>\n    </tr>\n    <tr>\n      <th>122</th>\n      <td>2021-11-13 14:24:50</td>\n      <td>170.0</td>\n      <td>21710030</td>\n    </tr>\n    <tr>\n      <th>123</th>\n      <td>2021-11-13 16:07:26</td>\n      <td>6156.0</td>\n      <td>21715000</td>\n    </tr>\n    <tr>\n      <th>124</th>\n      <td>2021-11-13 16:11:24</td>\n      <td>238.0</td>\n      <td>21775480</td>\n    </tr>\n  </tbody>\n</table>\n<p>125 rows × 3 columns</p>\n</div>"
     },
     "execution_count": 18,
     "metadata": {},
     "output_type": "execute_result"
    }
   ],
   "source": [
    "locations"
   ]
  },
  {
   "cell_type": "code",
   "execution_count": 19,
   "id": "023377af",
   "metadata": {},
   "outputs": [],
   "source": [
    "locations_cases = locations.merge(cases_by_cep, on='cep', how='left').fillna(0)"
   ]
  },
  {
   "cell_type": "code",
   "execution_count": 20,
   "id": "d1a1953d",
   "metadata": {},
   "outputs": [
    {
     "data": {
      "text/plain": "                   date  duration       cep  cases\n120 2021-11-13 14:19:13     383.0  21715150    0.0\n121 2021-11-13 14:22:00     167.0  21715065    0.0\n122 2021-11-13 14:24:50     170.0  21710030    0.0\n123 2021-11-13 16:07:26    6156.0  21715000    0.0\n124 2021-11-13 16:11:24     238.0  21775480    0.0",
      "text/html": "<div>\n<style scoped>\n    .dataframe tbody tr th:only-of-type {\n        vertical-align: middle;\n    }\n\n    .dataframe tbody tr th {\n        vertical-align: top;\n    }\n\n    .dataframe thead th {\n        text-align: right;\n    }\n</style>\n<table border=\"1\" class=\"dataframe\">\n  <thead>\n    <tr style=\"text-align: right;\">\n      <th></th>\n      <th>date</th>\n      <th>duration</th>\n      <th>cep</th>\n      <th>cases</th>\n    </tr>\n  </thead>\n  <tbody>\n    <tr>\n      <th>120</th>\n      <td>2021-11-13 14:19:13</td>\n      <td>383.0</td>\n      <td>21715150</td>\n      <td>0.0</td>\n    </tr>\n    <tr>\n      <th>121</th>\n      <td>2021-11-13 14:22:00</td>\n      <td>167.0</td>\n      <td>21715065</td>\n      <td>0.0</td>\n    </tr>\n    <tr>\n      <th>122</th>\n      <td>2021-11-13 14:24:50</td>\n      <td>170.0</td>\n      <td>21710030</td>\n      <td>0.0</td>\n    </tr>\n    <tr>\n      <th>123</th>\n      <td>2021-11-13 16:07:26</td>\n      <td>6156.0</td>\n      <td>21715000</td>\n      <td>0.0</td>\n    </tr>\n    <tr>\n      <th>124</th>\n      <td>2021-11-13 16:11:24</td>\n      <td>238.0</td>\n      <td>21775480</td>\n      <td>0.0</td>\n    </tr>\n  </tbody>\n</table>\n</div>"
     },
     "execution_count": 20,
     "metadata": {},
     "output_type": "execute_result"
    }
   ],
   "source": [
    "locations_cases.tail()"
   ]
  },
  {
   "cell_type": "markdown",
   "id": "901da2df",
   "metadata": {},
   "source": [
    "## Dados do aplicativo Samsung Health"
   ]
  },
  {
   "cell_type": "code",
   "execution_count": 21,
   "id": "dc2e7076",
   "metadata": {},
   "outputs": [],
   "source": [
    "from pathlib import Path"
   ]
  },
  {
   "cell_type": "code",
   "execution_count": 22,
   "id": "2f27a7f0",
   "metadata": {},
   "outputs": [],
   "source": [
    "df = pd.DataFrame()\n",
    "jsons = []\n",
    "pathlist = Path(\"data/com.samsung.shealth.stress/\").glob('**/*.json')\n",
    "for path in pathlist:\n",
    "    path_in_str = str(path)\n",
    "    tmp_df = pd.read_json(path)\n",
    "    jsons.append(tmp_df)\n",
    "\n",
    "df = pd.concat(jsons)"
   ]
  },
  {
   "cell_type": "code",
   "execution_count": 23,
   "id": "3ea5aa9d",
   "metadata": {},
   "outputs": [],
   "source": [
    "df['score'] = pd.to_numeric(df['score'])\n",
    "df = df.sort_values(by=['end_time'])\n",
    "df['end_time'] = pd.to_datetime(df['end_time'])"
   ]
  },
  {
   "cell_type": "code",
   "execution_count": 24,
   "id": "249ee80e",
   "metadata": {},
   "outputs": [],
   "source": [
    "wearable_data = df[df['end_time'] > dt.datetime.fromtimestamp(start_date) + dt.timedelta(days=1)]\n",
    "wearable_data = wearable_data.drop(['flag', 'level', 'score_max', 'score_min'], axis=1)"
   ]
  },
  {
   "cell_type": "code",
   "execution_count": 25,
   "id": "de3794ff",
   "metadata": {},
   "outputs": [
    {
     "data": {
      "text/plain": "              end_time  score          start_time\n0  2021-11-13 18:15:59      5 2021-11-13 18:15:00\n1  2021-11-13 18:16:59      5 2021-11-13 18:16:00\n2  2021-11-13 18:17:59     12 2021-11-13 18:17:00\n3  2021-11-13 18:34:59     12 2021-11-13 18:34:00\n4  2021-11-13 18:35:59     12 2021-11-13 18:35:00\n..                 ...    ...                 ...\n34 2021-11-16 18:36:59     24 2021-11-16 18:36:00\n35 2021-11-16 18:37:59     20 2021-11-16 18:37:00\n36 2021-11-16 18:38:59     56 2021-11-16 18:38:00\n37 2021-11-16 18:39:59      5 2021-11-16 18:39:00\n38 2021-11-16 18:40:59     46 2021-11-16 18:40:00\n\n[737 rows x 3 columns]",
      "text/html": "<div>\n<style scoped>\n    .dataframe tbody tr th:only-of-type {\n        vertical-align: middle;\n    }\n\n    .dataframe tbody tr th {\n        vertical-align: top;\n    }\n\n    .dataframe thead th {\n        text-align: right;\n    }\n</style>\n<table border=\"1\" class=\"dataframe\">\n  <thead>\n    <tr style=\"text-align: right;\">\n      <th></th>\n      <th>end_time</th>\n      <th>score</th>\n      <th>start_time</th>\n    </tr>\n  </thead>\n  <tbody>\n    <tr>\n      <th>0</th>\n      <td>2021-11-13 18:15:59</td>\n      <td>5</td>\n      <td>2021-11-13 18:15:00</td>\n    </tr>\n    <tr>\n      <th>1</th>\n      <td>2021-11-13 18:16:59</td>\n      <td>5</td>\n      <td>2021-11-13 18:16:00</td>\n    </tr>\n    <tr>\n      <th>2</th>\n      <td>2021-11-13 18:17:59</td>\n      <td>12</td>\n      <td>2021-11-13 18:17:00</td>\n    </tr>\n    <tr>\n      <th>3</th>\n      <td>2021-11-13 18:34:59</td>\n      <td>12</td>\n      <td>2021-11-13 18:34:00</td>\n    </tr>\n    <tr>\n      <th>4</th>\n      <td>2021-11-13 18:35:59</td>\n      <td>12</td>\n      <td>2021-11-13 18:35:00</td>\n    </tr>\n    <tr>\n      <th>...</th>\n      <td>...</td>\n      <td>...</td>\n      <td>...</td>\n    </tr>\n    <tr>\n      <th>34</th>\n      <td>2021-11-16 18:36:59</td>\n      <td>24</td>\n      <td>2021-11-16 18:36:00</td>\n    </tr>\n    <tr>\n      <th>35</th>\n      <td>2021-11-16 18:37:59</td>\n      <td>20</td>\n      <td>2021-11-16 18:37:00</td>\n    </tr>\n    <tr>\n      <th>36</th>\n      <td>2021-11-16 18:38:59</td>\n      <td>56</td>\n      <td>2021-11-16 18:38:00</td>\n    </tr>\n    <tr>\n      <th>37</th>\n      <td>2021-11-16 18:39:59</td>\n      <td>5</td>\n      <td>2021-11-16 18:39:00</td>\n    </tr>\n    <tr>\n      <th>38</th>\n      <td>2021-11-16 18:40:59</td>\n      <td>46</td>\n      <td>2021-11-16 18:40:00</td>\n    </tr>\n  </tbody>\n</table>\n<p>737 rows × 3 columns</p>\n</div>"
     },
     "execution_count": 25,
     "metadata": {},
     "output_type": "execute_result"
    }
   ],
   "source": [
    "wearable_data"
   ]
  },
  {
   "cell_type": "code",
   "execution_count": 26,
   "id": "58bab955",
   "metadata": {},
   "outputs": [],
   "source": [
    "def check_interval(date, series, duration):\n",
    "    timelapse = (date - dt.timedelta(seconds=duration), date + dt.timedelta(seconds=duration))\n",
    "    interval = series[(series['date'] >= timelapse[0]) & (series['date'] <= timelapse[1])]\n",
    "    tmp = pd.DataFrame()\n",
    "    if interval.shape[0] > 0:\n",
    "        tmp = interval.groupby('cep').sum().sort_values('duration', ascending=False)\n",
    "    else:\n",
    "        tmp = tmp.append({'cep' : '', 'cases' : ''}, ignore_index=True, sort=False)\n",
    "\n",
    "    return tmp.reset_index()\n",
    "\n",
    "\n",
    "heartrate_location = pd.DataFrame()\n",
    "\n",
    "for index, row in wearable_data.iterrows():\n",
    "    \n",
    "    location_data = check_interval(row['start_time'], locations_cases, 1000)\n",
    "\n",
    "    tmp = {\n",
    "        'time': row[\"start_time\"],\n",
    "        'score': row[\"score\"],\n",
    "        'cep' : location_data['cep'].iloc[0],\n",
    "        'cases' : location_data['cases'].iloc[0]\n",
    "    }\n",
    "        \n",
    "    \n",
    "    heartrate_location = heartrate_location.append(tmp, ignore_index=True, sort=False)\n",
    "    "
   ]
  },
  {
   "cell_type": "markdown",
   "id": "98180fa9",
   "metadata": {},
   "source": [
    "### Escrevendo JSON"
   ]
  },
  {
   "cell_type": "code",
   "execution_count": 27,
   "id": "5c8c4cfb",
   "metadata": {},
   "outputs": [],
   "source": [
    "locations_cases.to_json(f\"output/{dt.datetime.now()}.json\", orient='records')"
   ]
  },
  {
   "cell_type": "markdown",
   "id": "1dbb3bed",
   "metadata": {},
   "source": [
    "## Armazenando no MongoDB"
   ]
  },
  {
   "cell_type": "code",
   "execution_count": 28,
   "id": "7abb9746",
   "metadata": {},
   "outputs": [],
   "source": [
    "import pymongo\n",
    "from pymongo import MongoClient"
   ]
  },
  {
   "cell_type": "code",
   "execution_count": 30,
   "outputs": [],
   "source": [
    "with open('db_conn.txt') as file:\n",
    "    uri = file.readline()\n",
    "\n",
    "client = MongoClient(uri)"
   ],
   "metadata": {
    "collapsed": false,
    "pycharm": {
     "name": "#%%\n"
    }
   }
  },
  {
   "cell_type": "code",
   "execution_count": 31,
   "id": "aea3a6c2",
   "metadata": {},
   "outputs": [],
   "source": [
    "db = client['hrv_cep_cases']\n",
    "result = db.collection.insert_many(locations_cases.to_dict('records'))"
   ]
  }
 ],
 "metadata": {
  "kernelspec": {
   "display_name": "Python 3 (ipykernel)",
   "language": "python",
   "name": "python3"
  },
  "language_info": {
   "codemirror_mode": {
    "name": "ipython",
    "version": 3
   },
   "file_extension": ".py",
   "mimetype": "text/x-python",
   "name": "python",
   "nbconvert_exporter": "python",
   "pygments_lexer": "ipython3",
   "version": "3.8.12"
  }
 },
 "nbformat": 4,
 "nbformat_minor": 5
}