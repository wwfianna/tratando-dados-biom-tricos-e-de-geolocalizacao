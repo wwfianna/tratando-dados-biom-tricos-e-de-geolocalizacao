{
 "nbformat": 4,
 "nbformat_minor": 0,
 "metadata": {
  "colab": {
   "name": "exposição_covid.ipynb",
   "provenance": [],
   "collapsed_sections": [],
   "authorship_tag": "ABX9TyO7i87tvDAcBM+VSV1W50EY"
  },
  "kernelspec": {
   "name": "python3",
   "language": "python",
   "display_name": "Python 3"
  },
  "language_info": {
   "name": "python"
  }
 },
 "cells": [
  {
   "cell_type": "code",
   "metadata": {
    "id": "adCwnmZrHZ4Y",
    "executionInfo": {
     "status": "ok",
     "timestamp": 1635978666024,
     "user_tz": 180,
     "elapsed": 333,
     "user": {
      "displayName": "Daniel Carvalho",
      "photoUrl": "https://lh3.googleusercontent.com/a/default-user=s64",
      "userId": "06930449971611347903"
     }
    }
   },
   "source": [
    "import pandas as pd\n",
    "import datetime as dt"
   ],
   "execution_count": 1,
   "outputs": []
  },
  {
   "cell_type": "code",
   "metadata": {
    "id": "u52_fU60IkdW",
    "executionInfo": {
     "status": "ok",
     "timestamp": 1635978702931,
     "user_tz": 180,
     "elapsed": 26401,
     "user": {
      "displayName": "Daniel Carvalho",
      "photoUrl": "https://lh3.googleusercontent.com/a/default-user=s64",
      "userId": "06930449971611347903"
     }
    }
   },
   "source": [
    "loc_history = pd.read_json(\"data/Histórico de localização.json\")"
   ],
   "execution_count": 2,
   "outputs": []
  },
  {
   "cell_type": "code",
   "metadata": {
    "id": "Zn_7S_KoJIVW",
    "executionInfo": {
     "status": "ok",
     "timestamp": 1635978762476,
     "user_tz": 180,
     "elapsed": 56494,
     "user": {
      "displayName": "Daniel Carvalho",
      "photoUrl": "https://lh3.googleusercontent.com/a/default-user=s64",
      "userId": "06930449971611347903"
     }
    }
   },
   "source": [
    "locations = pd.json_normalize(loc_history['locations'])"
   ],
   "execution_count": 3,
   "outputs": []
  },
  {
   "cell_type": "code",
   "execution_count": 4,
   "outputs": [
    {
     "data": {
      "text/plain": "     timestampMs  latitudeE7  longitudeE7  accuracy  \\\n0  1378508750990  -229917099   -433592736       984   \n1  1378508766022  -229917099   -433592736       984   \n2  1378509026816  -229917099   -433592736       984   \n3  1378509072785  -229949469   -433592859         5   \n4  1378509118790  -229958679   -433588200         5   \n\n                                            activity source  deviceTag  \\\n0  [{'timestampMs': '1378508517137', 'activity': ...   CELL  248904379   \n1  [{'timestampMs': '1378508772583', 'activity': ...   CELL  248904379   \n2  [{'timestampMs': '1378508969051', 'activity': ...   CELL  248904379   \n3                                                NaN    GPS  248904379   \n4                                                NaN    GPS  248904379   \n\n   altitude  verticalAccuracy platform platformType locationMetadata  \\\n0       NaN               NaN      NaN          NaN              NaN   \n1       NaN               NaN      NaN          NaN              NaN   \n2       NaN               NaN      NaN          NaN              NaN   \n3       NaN               NaN      NaN          NaN              NaN   \n4       NaN               NaN      NaN          NaN              NaN   \n\n   velocity  heading  \n0       NaN      NaN  \n1       NaN      NaN  \n2       NaN      NaN  \n3       NaN      NaN  \n4       NaN      NaN  ",
      "text/html": "<div>\n<style scoped>\n    .dataframe tbody tr th:only-of-type {\n        vertical-align: middle;\n    }\n\n    .dataframe tbody tr th {\n        vertical-align: top;\n    }\n\n    .dataframe thead th {\n        text-align: right;\n    }\n</style>\n<table border=\"1\" class=\"dataframe\">\n  <thead>\n    <tr style=\"text-align: right;\">\n      <th></th>\n      <th>timestampMs</th>\n      <th>latitudeE7</th>\n      <th>longitudeE7</th>\n      <th>accuracy</th>\n      <th>activity</th>\n      <th>source</th>\n      <th>deviceTag</th>\n      <th>altitude</th>\n      <th>verticalAccuracy</th>\n      <th>platform</th>\n      <th>platformType</th>\n      <th>locationMetadata</th>\n      <th>velocity</th>\n      <th>heading</th>\n    </tr>\n  </thead>\n  <tbody>\n    <tr>\n      <th>0</th>\n      <td>1378508750990</td>\n      <td>-229917099</td>\n      <td>-433592736</td>\n      <td>984</td>\n      <td>[{'timestampMs': '1378508517137', 'activity': ...</td>\n      <td>CELL</td>\n      <td>248904379</td>\n      <td>NaN</td>\n      <td>NaN</td>\n      <td>NaN</td>\n      <td>NaN</td>\n      <td>NaN</td>\n      <td>NaN</td>\n      <td>NaN</td>\n    </tr>\n    <tr>\n      <th>1</th>\n      <td>1378508766022</td>\n      <td>-229917099</td>\n      <td>-433592736</td>\n      <td>984</td>\n      <td>[{'timestampMs': '1378508772583', 'activity': ...</td>\n      <td>CELL</td>\n      <td>248904379</td>\n      <td>NaN</td>\n      <td>NaN</td>\n      <td>NaN</td>\n      <td>NaN</td>\n      <td>NaN</td>\n      <td>NaN</td>\n      <td>NaN</td>\n    </tr>\n    <tr>\n      <th>2</th>\n      <td>1378509026816</td>\n      <td>-229917099</td>\n      <td>-433592736</td>\n      <td>984</td>\n      <td>[{'timestampMs': '1378508969051', 'activity': ...</td>\n      <td>CELL</td>\n      <td>248904379</td>\n      <td>NaN</td>\n      <td>NaN</td>\n      <td>NaN</td>\n      <td>NaN</td>\n      <td>NaN</td>\n      <td>NaN</td>\n      <td>NaN</td>\n    </tr>\n    <tr>\n      <th>3</th>\n      <td>1378509072785</td>\n      <td>-229949469</td>\n      <td>-433592859</td>\n      <td>5</td>\n      <td>NaN</td>\n      <td>GPS</td>\n      <td>248904379</td>\n      <td>NaN</td>\n      <td>NaN</td>\n      <td>NaN</td>\n      <td>NaN</td>\n      <td>NaN</td>\n      <td>NaN</td>\n      <td>NaN</td>\n    </tr>\n    <tr>\n      <th>4</th>\n      <td>1378509118790</td>\n      <td>-229958679</td>\n      <td>-433588200</td>\n      <td>5</td>\n      <td>NaN</td>\n      <td>GPS</td>\n      <td>248904379</td>\n      <td>NaN</td>\n      <td>NaN</td>\n      <td>NaN</td>\n      <td>NaN</td>\n      <td>NaN</td>\n      <td>NaN</td>\n      <td>NaN</td>\n    </tr>\n  </tbody>\n</table>\n</div>"
     },
     "execution_count": 4,
     "metadata": {},
     "output_type": "execute_result"
    }
   ],
   "source": [
    "locations.head()"
   ],
   "metadata": {
    "collapsed": false,
    "pycharm": {
     "name": "#%%\n"
    }
   }
  },
  {
   "cell_type": "code",
   "metadata": {
    "id": "vGU25vq-UL2f",
    "executionInfo": {
     "status": "ok",
     "timestamp": 1635978763422,
     "user_tz": 180,
     "elapsed": 957,
     "user": {
      "displayName": "Daniel Carvalho",
      "photoUrl": "https://lh3.googleusercontent.com/a/default-user=s64",
      "userId": "06930449971611347903"
     }
    }
   },
   "source": [
    "locations['timestampMs'] = pd.to_numeric(locations['timestampMs'])\n",
    "locations['latitudeE7'] = pd.to_numeric(locations['latitudeE7'])\n",
    "locations['longitudeE7'] = pd.to_numeric(locations['longitudeE7'])"
   ],
   "execution_count": 5,
   "outputs": []
  },
  {
   "cell_type": "code",
   "metadata": {
    "id": "gvMeD30iOgHi",
    "executionInfo": {
     "status": "ok",
     "timestamp": 1635978800277,
     "user_tz": 180,
     "elapsed": 274,
     "user": {
      "displayName": "Daniel Carvalho",
      "photoUrl": "https://lh3.googleusercontent.com/a/default-user=s64",
      "userId": "06930449971611347903"
     }
    }
   },
   "source": [
    "locations = locations[\n",
    "    locations['timestampMs'] > dt.datetime.timestamp(dt.datetime.now() - dt.timedelta(days=30)) * 1000]"
   ],
   "execution_count": 6,
   "outputs": []
  },
  {
   "cell_type": "code",
   "metadata": {
    "id": "jIIaUT202X3k",
    "executionInfo": {
     "status": "ok",
     "timestamp": 1635978803135,
     "user_tz": 180,
     "elapsed": 287,
     "user": {
      "displayName": "Daniel Carvalho",
      "photoUrl": "https://lh3.googleusercontent.com/a/default-user=s64",
      "userId": "06930449971611347903"
     }
    }
   },
   "source": [
    "import requests\n",
    "import time"
   ],
   "execution_count": 7,
   "outputs": []
  },
  {
   "cell_type": "code",
   "metadata": {
    "id": "mqwhS-7g2ZHr",
    "executionInfo": {
     "status": "ok",
     "timestamp": 1635978808536,
     "user_tz": 180,
     "elapsed": 292,
     "user": {
      "displayName": "Daniel Carvalho",
      "photoUrl": "https://lh3.googleusercontent.com/a/default-user=s64",
      "userId": "06930449971611347903"
     }
    }
   },
   "source": [
    "####\n",
    "# URL de conexão com a API CEP Aberto\n",
    "####\n",
    "with open('token.txt') as file:\n",
    "    token = file.readline()\n",
    "\n",
    "url = \"https://www.cepaberto.com/api/v3/nearest\"\n",
    "headers = {'Authorization': 'Token token=' + token}"
   ],
   "execution_count": 8,
   "outputs": []
  },
  {
   "cell_type": "code",
   "metadata": {
    "id": "qeiLMtpAT2mp",
    "executionInfo": {
     "status": "ok",
     "timestamp": 1635978839473,
     "user_tz": 180,
     "elapsed": 29427,
     "user": {
      "displayName": "Daniel Carvalho",
      "photoUrl": "https://lh3.googleusercontent.com/a/default-user=s64",
      "userId": "06930449971611347903"
     }
    }
   },
   "source": [
    "entries = pd.DataFrame()\n",
    "initTimestamp = 0\n",
    "initLatitude = 0\n",
    "initLongitude = 0\n",
    "for index, location in locations.iterrows():\n",
    "    if initTimestamp == 0:\n",
    "        initTimestamp = location['timestampMs']\n",
    "        initLatitude = location['latitudeE7']\n",
    "        initLongitude = location['longitudeE7']\n",
    "    else:\n",
    "        ####\n",
    "        # Verifica se houve alguma mudança significativa na localização baseada nos dados de lat e lng fornecidos pelo GPS\n",
    "        ####\n",
    "        if abs(location['latitudeE7'] - initLatitude) > 50000 or abs(location['longitudeE7'] - initLongitude) > 50000:\n",
    "            duration = (dt.datetime.fromtimestamp(location['timestampMs'] / 1000) - dt.datetime.fromtimestamp(\n",
    "                initTimestamp / 1000)).total_seconds()\n",
    "            ####\n",
    "            # O usuário deve ter permanecido por pelo menos 30min no local para ser considerado\n",
    "            ####\n",
    "            if duration > 1800:\n",
    "                ####\n",
    "                # Formatando os dados de localização para se comunicar com a API do CEP Aberto\n",
    "                ####\n",
    "                latitude = location['latitudeE7'] / 10000000\n",
    "                longitude = location['longitudeE7'] / 10000000\n",
    "                response = requests.get(url, headers=headers, params={'lat': latitude, 'lng': longitude})\n",
    "                cep = response.json()['cep']\n",
    "\n",
    "                ####\n",
    "                # Adicionando entrada à lista\n",
    "                ####\n",
    "                tmp = {\n",
    "                    'data': dt.datetime.fromtimestamp(location['timestampMs'] / 1000).strftime(\"%Y/%m/%d, %H:%M:%S\"),\n",
    "                    'duration': duration,\n",
    "                    'cep': cep\n",
    "                }\n",
    "                entries = entries.append(tmp, ignore_index=True, sort=False)\n",
    "\n",
    "                ####\n",
    "                # A API é free mas limitada à uma consulta por segundo\n",
    "                ####\n",
    "                time.sleep(1)\n",
    "\n",
    "            initTimestamp = location['timestampMs']\n",
    "            initLatitude = location['latitudeE7']\n",
    "            initLongitude = location['longitudeE7']"
   ],
   "execution_count": 9,
   "outputs": []
  },
  {
   "cell_type": "code",
   "execution_count": 10,
   "outputs": [
    {
     "data": {
      "text/plain": "                   data    duration       cep\n0  2021/10/20, 11:09:12  207129.821  21815510\n1  2021/10/20, 12:14:12    3777.611  21810008\n2  2021/10/20, 15:54:55   13242.433  21715360\n3  2021/10/20, 17:15:38    4582.152  21715321\n4  2021/10/21, 08:32:54   54639.098  21715550",
      "text/html": "<div>\n<style scoped>\n    .dataframe tbody tr th:only-of-type {\n        vertical-align: middle;\n    }\n\n    .dataframe tbody tr th {\n        vertical-align: top;\n    }\n\n    .dataframe thead th {\n        text-align: right;\n    }\n</style>\n<table border=\"1\" class=\"dataframe\">\n  <thead>\n    <tr style=\"text-align: right;\">\n      <th></th>\n      <th>data</th>\n      <th>duration</th>\n      <th>cep</th>\n    </tr>\n  </thead>\n  <tbody>\n    <tr>\n      <th>0</th>\n      <td>2021/10/20, 11:09:12</td>\n      <td>207129.821</td>\n      <td>21815510</td>\n    </tr>\n    <tr>\n      <th>1</th>\n      <td>2021/10/20, 12:14:12</td>\n      <td>3777.611</td>\n      <td>21810008</td>\n    </tr>\n    <tr>\n      <th>2</th>\n      <td>2021/10/20, 15:54:55</td>\n      <td>13242.433</td>\n      <td>21715360</td>\n    </tr>\n    <tr>\n      <th>3</th>\n      <td>2021/10/20, 17:15:38</td>\n      <td>4582.152</td>\n      <td>21715321</td>\n    </tr>\n    <tr>\n      <th>4</th>\n      <td>2021/10/21, 08:32:54</td>\n      <td>54639.098</td>\n      <td>21715550</td>\n    </tr>\n  </tbody>\n</table>\n</div>"
     },
     "execution_count": 10,
     "metadata": {},
     "output_type": "execute_result"
    }
   ],
   "source": [
    "entries.head()"
   ],
   "metadata": {
    "collapsed": false,
    "pycharm": {
     "name": "#%%\n"
    }
   }
  },
  {
   "cell_type": "code",
   "metadata": {
    "colab": {
     "base_uri": "https://localhost:8080/"
    },
    "id": "ctNRqP4Kbqsx",
    "executionInfo": {
     "status": "ok",
     "timestamp": 1635978846789,
     "user_tz": 180,
     "elapsed": 300,
     "user": {
      "displayName": "Daniel Carvalho",
      "photoUrl": "https://lh3.googleusercontent.com/a/default-user=s64",
      "userId": "06930449971611347903"
     }
    },
    "outputId": "1a87ccc1-e475-4c0e-cac5-0fbc2dc6ee6a"
   },
   "source": [
    "###\n",
    "# Carregamento dos dados da prefeitura do Rio de Janeiro\n",
    "###\n",
    "covid_cases = pd.read_csv('data/Dados_CEP_MRJ_covid_19.csv')\n"
   ],
   "execution_count": 11,
   "outputs": [
    {
     "name": "stderr",
     "output_type": "stream",
     "text": [
      "/home/daniel/anaconda3/lib/python3.8/site-packages/IPython/core/interactiveshell.py:3444: DtypeWarning: Columns (5,6) have mixed types.Specify dtype option on import or set low_memory=False.\n",
      "  exec(code_obj, self.user_global_ns, self.user_ns)\n"
     ]
    }
   ]
  },
  {
   "cell_type": "code",
   "metadata": {
    "id": "mK6eBVxo8CZ9"
   },
   "source": [
    "###\n",
    "# Convertendo os dados de data para objeto datetime e selecionando apenas os últimos 15 dias\n",
    "###\n",
    "covid_cases['dt_inicio_sintomas'] = pd.to_datetime(covid_cases['dt_inicio_sintomas'], dayfirst=True)\n",
    "covid_cases[covid_cases['dt_inicio_sintomas'] > dt.datetime.now() - dt.timedelta(days=30)]"
   ],
   "execution_count": 12,
   "outputs": [
    {
     "data": {
      "text/plain": "        dt_notific dt_inicio_sintomas bairro_resid__estadia  \\\n6259    10/29/2021         2021-10-28          CAMPO GRANDE   \n6345    11/12/2021         2021-11-11             BANCARIOS   \n6563    10/25/2021         2021-10-22                CACUIA   \n6565    06/21/2021         2021-11-06               TAQUARA   \n6634    04/18/2021         2021-11-04                 IRAJA   \n...            ...                ...                   ...   \n443963  05/27/2021         2021-12-05              REALENGO   \n444095  03/12/2021         2021-11-03               CATUMBI   \n444106  03/15/2021         2021-12-03               CATUMBI   \n444113  04/13/2021         2021-12-04             GUARATIBA   \n444171  03/15/2021         2021-12-03          SANTA TERESA   \n\n        ap_residencia_estadia    evolucao dt_evolucao       cep  \\\n6259                      5.2       óbito  11/16/2021  23055005   \n6345                      3.1  recuperado  11/15/2021  21910210   \n6563                      3.1  recuperado  11/12/2021  21921100   \n6565                      4.0  recuperado  11/12/2021  22723021   \n6634                      3.3  recuperado  11/11/2021  21220530   \n...                       ...         ...         ...       ...   \n443963                    5.1  Recuperado         NaN  21725060   \n444095                    1.0  Recuperado         NaN  20251330   \n444106                    1.0  Recuperado         NaN  20251190   \n444113                    5.2  Recuperado         NaN  23020000   \n444171                    1.0  Recuperado         NaN  20240080   \n\n       data_atualizacao  \n6259         16/11/2021  \n6345         16/11/2021  \n6563         16/11/2021  \n6565         16/11/2021  \n6634         16/11/2021  \n...                 ...  \n443963       11/16/2021  \n444095       11/16/2021  \n444106       11/16/2021  \n444113       11/16/2021  \n444171       11/16/2021  \n\n[17827 rows x 8 columns]",
      "text/html": "<div>\n<style scoped>\n    .dataframe tbody tr th:only-of-type {\n        vertical-align: middle;\n    }\n\n    .dataframe tbody tr th {\n        vertical-align: top;\n    }\n\n    .dataframe thead th {\n        text-align: right;\n    }\n</style>\n<table border=\"1\" class=\"dataframe\">\n  <thead>\n    <tr style=\"text-align: right;\">\n      <th></th>\n      <th>dt_notific</th>\n      <th>dt_inicio_sintomas</th>\n      <th>bairro_resid__estadia</th>\n      <th>ap_residencia_estadia</th>\n      <th>evolucao</th>\n      <th>dt_evolucao</th>\n      <th>cep</th>\n      <th>data_atualizacao</th>\n    </tr>\n  </thead>\n  <tbody>\n    <tr>\n      <th>6259</th>\n      <td>10/29/2021</td>\n      <td>2021-10-28</td>\n      <td>CAMPO GRANDE</td>\n      <td>5.2</td>\n      <td>óbito</td>\n      <td>11/16/2021</td>\n      <td>23055005</td>\n      <td>16/11/2021</td>\n    </tr>\n    <tr>\n      <th>6345</th>\n      <td>11/12/2021</td>\n      <td>2021-11-11</td>\n      <td>BANCARIOS</td>\n      <td>3.1</td>\n      <td>recuperado</td>\n      <td>11/15/2021</td>\n      <td>21910210</td>\n      <td>16/11/2021</td>\n    </tr>\n    <tr>\n      <th>6563</th>\n      <td>10/25/2021</td>\n      <td>2021-10-22</td>\n      <td>CACUIA</td>\n      <td>3.1</td>\n      <td>recuperado</td>\n      <td>11/12/2021</td>\n      <td>21921100</td>\n      <td>16/11/2021</td>\n    </tr>\n    <tr>\n      <th>6565</th>\n      <td>06/21/2021</td>\n      <td>2021-11-06</td>\n      <td>TAQUARA</td>\n      <td>4.0</td>\n      <td>recuperado</td>\n      <td>11/12/2021</td>\n      <td>22723021</td>\n      <td>16/11/2021</td>\n    </tr>\n    <tr>\n      <th>6634</th>\n      <td>04/18/2021</td>\n      <td>2021-11-04</td>\n      <td>IRAJA</td>\n      <td>3.3</td>\n      <td>recuperado</td>\n      <td>11/11/2021</td>\n      <td>21220530</td>\n      <td>16/11/2021</td>\n    </tr>\n    <tr>\n      <th>...</th>\n      <td>...</td>\n      <td>...</td>\n      <td>...</td>\n      <td>...</td>\n      <td>...</td>\n      <td>...</td>\n      <td>...</td>\n      <td>...</td>\n    </tr>\n    <tr>\n      <th>443963</th>\n      <td>05/27/2021</td>\n      <td>2021-12-05</td>\n      <td>REALENGO</td>\n      <td>5.1</td>\n      <td>Recuperado</td>\n      <td>NaN</td>\n      <td>21725060</td>\n      <td>11/16/2021</td>\n    </tr>\n    <tr>\n      <th>444095</th>\n      <td>03/12/2021</td>\n      <td>2021-11-03</td>\n      <td>CATUMBI</td>\n      <td>1.0</td>\n      <td>Recuperado</td>\n      <td>NaN</td>\n      <td>20251330</td>\n      <td>11/16/2021</td>\n    </tr>\n    <tr>\n      <th>444106</th>\n      <td>03/15/2021</td>\n      <td>2021-12-03</td>\n      <td>CATUMBI</td>\n      <td>1.0</td>\n      <td>Recuperado</td>\n      <td>NaN</td>\n      <td>20251190</td>\n      <td>11/16/2021</td>\n    </tr>\n    <tr>\n      <th>444113</th>\n      <td>04/13/2021</td>\n      <td>2021-12-04</td>\n      <td>GUARATIBA</td>\n      <td>5.2</td>\n      <td>Recuperado</td>\n      <td>NaN</td>\n      <td>23020000</td>\n      <td>11/16/2021</td>\n    </tr>\n    <tr>\n      <th>444171</th>\n      <td>03/15/2021</td>\n      <td>2021-12-03</td>\n      <td>SANTA TERESA</td>\n      <td>1.0</td>\n      <td>Recuperado</td>\n      <td>NaN</td>\n      <td>20240080</td>\n      <td>11/16/2021</td>\n    </tr>\n  </tbody>\n</table>\n<p>17827 rows × 8 columns</p>\n</div>"
     },
     "execution_count": 12,
     "metadata": {},
     "output_type": "execute_result"
    }
   ]
  },
  {
   "cell_type": "code",
   "execution_count": 13,
   "outputs": [],
   "source": [
    "###\n",
    "# Realizando a contagem de casos em cada CEP\n",
    "###\n",
    "relevant_covid_cases_cep = covid_cases[\n",
    "    covid_cases['dt_inicio_sintomas'] > dt.datetime.now() - dt.timedelta(days=30)].groupby(['cep']).count()\n",
    "\n",
    "relevant_covid_cases_cep = relevant_covid_cases_cep.reset_index()\n",
    "\n",
    "cases_by_cep = pd.DataFrame()\n",
    "cases_by_cep[['cep', 'cases']] = relevant_covid_cases_cep[['cep', 'dt_inicio_sintomas']]"
   ],
   "metadata": {
    "collapsed": false,
    "pycharm": {
     "name": "#%%\n"
    }
   }
  },
  {
   "cell_type": "code",
   "execution_count": 14,
   "outputs": [],
   "source": [
    "###\n",
    "# Cruzando os dados de permanência em cada CEP com a incidência de casos de COVID-19\n",
    "###\n",
    "fin = entries.merge(cases_by_cep, on='cep', how='left').fillna(0)"
   ],
   "metadata": {
    "collapsed": false,
    "pycharm": {
     "name": "#%%\n"
    }
   }
  },
  {
   "cell_type": "code",
   "execution_count": 15,
   "outputs": [
    {
     "data": {
      "text/plain": "                    data    duration       cep  cases\n0   2021/10/20, 11:09:12  207129.821  21815510    0.0\n1   2021/10/20, 12:14:12    3777.611  21810008    0.0\n2   2021/10/20, 15:54:55   13242.433  21715360    0.0\n3   2021/10/20, 17:15:38    4582.152  21715321    0.0\n4   2021/10/21, 08:32:54   54639.098  21715550    0.0\n5   2021/10/21, 09:09:14    2032.974  21721470    0.0\n6   2021/10/22, 17:23:17  115829.336  21815190    0.0\n7   2021/10/24, 14:45:51  161701.578  21810101    0.0\n8   2021/10/24, 16:13:11    5118.068  21715460    0.0\n9   2021/10/24, 17:40:18    4740.597  21810101    0.0\n10  2021/10/25, 11:18:48   63449.340  21810101    0.0\n11  2021/10/25, 19:23:56   15053.392  21715340    0.0\n12  2021/10/25, 21:05:13    2139.678  21820000    0.0\n13  2021/10/25, 21:43:27    2102.262  21820000    0.0\n14  2021/10/26, 09:33:15   41100.652  21775120    0.0\n15  2021/10/26, 11:12:41    5966.308  21775440    0.0\n16  2021/10/29, 17:56:17  283416.278  21815510    0.0\n17  2021/10/29, 18:41:49    2732.076  21715460    0.0\n18  2021/10/30, 14:19:06   70636.364  21815510    0.0\n19  2021/10/30, 16:44:48    5334.150  21330110    0.0\n20  2021/11/02, 13:56:13  247787.271  21715380    0.0\n21  2021/11/02, 15:09:30    2932.225  21715460    0.0\n22  2021/11/02, 17:08:34    7142.960  21715460    0.0\n23  2021/11/02, 18:01:01    3036.882  22775040    2.0\n24  2021/11/06, 10:12:34  316043.812  21715200    0.0\n25  2021/11/06, 12:14:24    2241.257  21715460    0.0\n26  2021/11/06, 13:36:23    4918.990  21815510    0.0\n27  2021/11/07, 12:03:32   79668.244  21815510    0.0\n28  2021/11/11, 18:06:34  366176.708  21715230    0.0\n29  2021/11/11, 21:18:34    9883.177  21715460    0.0\n30  2021/11/11, 22:13:01    3104.820  21741110    0.0\n31  2021/11/13, 10:30:42  129710.333  21710255    0.0\n32  2021/11/13, 12:51:35    2472.000  22031901    0.0\n33  2021/11/13, 16:07:26    6156.350  21715120    0.0\n34  2021/11/14, 11:22:31   69066.374  21725341    0.0\n35  2021/11/14, 12:37:19    1867.141  21715460    0.0\n36  2021/11/14, 17:03:54   15994.957  26260360    0.0\n37  2021/11/16, 09:11:56  141712.426  21850022    0.0",
      "text/html": "<div>\n<style scoped>\n    .dataframe tbody tr th:only-of-type {\n        vertical-align: middle;\n    }\n\n    .dataframe tbody tr th {\n        vertical-align: top;\n    }\n\n    .dataframe thead th {\n        text-align: right;\n    }\n</style>\n<table border=\"1\" class=\"dataframe\">\n  <thead>\n    <tr style=\"text-align: right;\">\n      <th></th>\n      <th>data</th>\n      <th>duration</th>\n      <th>cep</th>\n      <th>cases</th>\n    </tr>\n  </thead>\n  <tbody>\n    <tr>\n      <th>0</th>\n      <td>2021/10/20, 11:09:12</td>\n      <td>207129.821</td>\n      <td>21815510</td>\n      <td>0.0</td>\n    </tr>\n    <tr>\n      <th>1</th>\n      <td>2021/10/20, 12:14:12</td>\n      <td>3777.611</td>\n      <td>21810008</td>\n      <td>0.0</td>\n    </tr>\n    <tr>\n      <th>2</th>\n      <td>2021/10/20, 15:54:55</td>\n      <td>13242.433</td>\n      <td>21715360</td>\n      <td>0.0</td>\n    </tr>\n    <tr>\n      <th>3</th>\n      <td>2021/10/20, 17:15:38</td>\n      <td>4582.152</td>\n      <td>21715321</td>\n      <td>0.0</td>\n    </tr>\n    <tr>\n      <th>4</th>\n      <td>2021/10/21, 08:32:54</td>\n      <td>54639.098</td>\n      <td>21715550</td>\n      <td>0.0</td>\n    </tr>\n    <tr>\n      <th>5</th>\n      <td>2021/10/21, 09:09:14</td>\n      <td>2032.974</td>\n      <td>21721470</td>\n      <td>0.0</td>\n    </tr>\n    <tr>\n      <th>6</th>\n      <td>2021/10/22, 17:23:17</td>\n      <td>115829.336</td>\n      <td>21815190</td>\n      <td>0.0</td>\n    </tr>\n    <tr>\n      <th>7</th>\n      <td>2021/10/24, 14:45:51</td>\n      <td>161701.578</td>\n      <td>21810101</td>\n      <td>0.0</td>\n    </tr>\n    <tr>\n      <th>8</th>\n      <td>2021/10/24, 16:13:11</td>\n      <td>5118.068</td>\n      <td>21715460</td>\n      <td>0.0</td>\n    </tr>\n    <tr>\n      <th>9</th>\n      <td>2021/10/24, 17:40:18</td>\n      <td>4740.597</td>\n      <td>21810101</td>\n      <td>0.0</td>\n    </tr>\n    <tr>\n      <th>10</th>\n      <td>2021/10/25, 11:18:48</td>\n      <td>63449.340</td>\n      <td>21810101</td>\n      <td>0.0</td>\n    </tr>\n    <tr>\n      <th>11</th>\n      <td>2021/10/25, 19:23:56</td>\n      <td>15053.392</td>\n      <td>21715340</td>\n      <td>0.0</td>\n    </tr>\n    <tr>\n      <th>12</th>\n      <td>2021/10/25, 21:05:13</td>\n      <td>2139.678</td>\n      <td>21820000</td>\n      <td>0.0</td>\n    </tr>\n    <tr>\n      <th>13</th>\n      <td>2021/10/25, 21:43:27</td>\n      <td>2102.262</td>\n      <td>21820000</td>\n      <td>0.0</td>\n    </tr>\n    <tr>\n      <th>14</th>\n      <td>2021/10/26, 09:33:15</td>\n      <td>41100.652</td>\n      <td>21775120</td>\n      <td>0.0</td>\n    </tr>\n    <tr>\n      <th>15</th>\n      <td>2021/10/26, 11:12:41</td>\n      <td>5966.308</td>\n      <td>21775440</td>\n      <td>0.0</td>\n    </tr>\n    <tr>\n      <th>16</th>\n      <td>2021/10/29, 17:56:17</td>\n      <td>283416.278</td>\n      <td>21815510</td>\n      <td>0.0</td>\n    </tr>\n    <tr>\n      <th>17</th>\n      <td>2021/10/29, 18:41:49</td>\n      <td>2732.076</td>\n      <td>21715460</td>\n      <td>0.0</td>\n    </tr>\n    <tr>\n      <th>18</th>\n      <td>2021/10/30, 14:19:06</td>\n      <td>70636.364</td>\n      <td>21815510</td>\n      <td>0.0</td>\n    </tr>\n    <tr>\n      <th>19</th>\n      <td>2021/10/30, 16:44:48</td>\n      <td>5334.150</td>\n      <td>21330110</td>\n      <td>0.0</td>\n    </tr>\n    <tr>\n      <th>20</th>\n      <td>2021/11/02, 13:56:13</td>\n      <td>247787.271</td>\n      <td>21715380</td>\n      <td>0.0</td>\n    </tr>\n    <tr>\n      <th>21</th>\n      <td>2021/11/02, 15:09:30</td>\n      <td>2932.225</td>\n      <td>21715460</td>\n      <td>0.0</td>\n    </tr>\n    <tr>\n      <th>22</th>\n      <td>2021/11/02, 17:08:34</td>\n      <td>7142.960</td>\n      <td>21715460</td>\n      <td>0.0</td>\n    </tr>\n    <tr>\n      <th>23</th>\n      <td>2021/11/02, 18:01:01</td>\n      <td>3036.882</td>\n      <td>22775040</td>\n      <td>2.0</td>\n    </tr>\n    <tr>\n      <th>24</th>\n      <td>2021/11/06, 10:12:34</td>\n      <td>316043.812</td>\n      <td>21715200</td>\n      <td>0.0</td>\n    </tr>\n    <tr>\n      <th>25</th>\n      <td>2021/11/06, 12:14:24</td>\n      <td>2241.257</td>\n      <td>21715460</td>\n      <td>0.0</td>\n    </tr>\n    <tr>\n      <th>26</th>\n      <td>2021/11/06, 13:36:23</td>\n      <td>4918.990</td>\n      <td>21815510</td>\n      <td>0.0</td>\n    </tr>\n    <tr>\n      <th>27</th>\n      <td>2021/11/07, 12:03:32</td>\n      <td>79668.244</td>\n      <td>21815510</td>\n      <td>0.0</td>\n    </tr>\n    <tr>\n      <th>28</th>\n      <td>2021/11/11, 18:06:34</td>\n      <td>366176.708</td>\n      <td>21715230</td>\n      <td>0.0</td>\n    </tr>\n    <tr>\n      <th>29</th>\n      <td>2021/11/11, 21:18:34</td>\n      <td>9883.177</td>\n      <td>21715460</td>\n      <td>0.0</td>\n    </tr>\n    <tr>\n      <th>30</th>\n      <td>2021/11/11, 22:13:01</td>\n      <td>3104.820</td>\n      <td>21741110</td>\n      <td>0.0</td>\n    </tr>\n    <tr>\n      <th>31</th>\n      <td>2021/11/13, 10:30:42</td>\n      <td>129710.333</td>\n      <td>21710255</td>\n      <td>0.0</td>\n    </tr>\n    <tr>\n      <th>32</th>\n      <td>2021/11/13, 12:51:35</td>\n      <td>2472.000</td>\n      <td>22031901</td>\n      <td>0.0</td>\n    </tr>\n    <tr>\n      <th>33</th>\n      <td>2021/11/13, 16:07:26</td>\n      <td>6156.350</td>\n      <td>21715120</td>\n      <td>0.0</td>\n    </tr>\n    <tr>\n      <th>34</th>\n      <td>2021/11/14, 11:22:31</td>\n      <td>69066.374</td>\n      <td>21725341</td>\n      <td>0.0</td>\n    </tr>\n    <tr>\n      <th>35</th>\n      <td>2021/11/14, 12:37:19</td>\n      <td>1867.141</td>\n      <td>21715460</td>\n      <td>0.0</td>\n    </tr>\n    <tr>\n      <th>36</th>\n      <td>2021/11/14, 17:03:54</td>\n      <td>15994.957</td>\n      <td>26260360</td>\n      <td>0.0</td>\n    </tr>\n    <tr>\n      <th>37</th>\n      <td>2021/11/16, 09:11:56</td>\n      <td>141712.426</td>\n      <td>21850022</td>\n      <td>0.0</td>\n    </tr>\n  </tbody>\n</table>\n</div>"
     },
     "execution_count": 15,
     "metadata": {},
     "output_type": "execute_result"
    }
   ],
   "source": [
    "###\n",
    "# print\n",
    "###\n",
    "fin\n"
   ],
   "metadata": {
    "collapsed": false,
    "pycharm": {
     "name": "#%%\n"
    }
   }
  },
  {
   "cell_type": "code",
   "execution_count": 15,
   "outputs": [],
   "source": [],
   "metadata": {
    "collapsed": false,
    "pycharm": {
     "name": "#%%\n"
    }
   }
  }
 ]
}