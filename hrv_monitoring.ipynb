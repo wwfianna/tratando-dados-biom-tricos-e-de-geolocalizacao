{
 "cells": [
  {
   "cell_type": "code",
   "execution_count": 10,
   "id": "4358d971",
   "metadata": {},
   "outputs": [],
   "source": [
    "import pandas as pd\n",
    "import datetime as dt\n",
    "from pathlib import Path"
   ]
  },
  {
   "cell_type": "code",
   "execution_count": 6,
   "id": "e4fe15e0",
   "metadata": {},
   "outputs": [],
   "source": [
    "###\n",
    "# Carregamento dos dados de biometria obtidos pelo wearable\n",
    "###\n",
    "df = pd.DataFrame()\n",
    "jsons = []\n",
    "pathlist = Path(\"data/com.samsung.shealth.stress/\").glob('**/*.json')\n",
    "for path in pathlist:\n",
    "    path_in_str = str(path)\n",
    "    tmp_df = pd.read_json(path)\n",
    "    jsons.append(tmp_df)\n",
    "\n",
    "df = pd.concat(jsons)\n",
    "\n"
   ]
  },
  {
   "cell_type": "code",
   "execution_count": 8,
   "outputs": [],
   "source": [
    "df = df.sort_values(by=['end_time'])\n",
    "df['end_time'] = pd.to_datetime(df['end_time'])\n",
    "df[df['end_time'] > dt.datetime.now() - dt.timedelta(days=14)]"
   ],
   "metadata": {
    "collapsed": false,
    "pycharm": {
     "name": "#%%\n"
    }
   }
  }
 ],
 "metadata": {
  "kernelspec": {
   "display_name": "Python 3",
   "language": "python",
   "name": "python3"
  },
  "language_info": {
   "codemirror_mode": {
    "name": "ipython",
    "version": 3
   },
   "file_extension": ".py",
   "mimetype": "text/x-python",
   "name": "python",
   "nbconvert_exporter": "python",
   "pygments_lexer": "ipython3",
   "version": "3.8.8"
  }
 },
 "nbformat": 4,
 "nbformat_minor": 5
}